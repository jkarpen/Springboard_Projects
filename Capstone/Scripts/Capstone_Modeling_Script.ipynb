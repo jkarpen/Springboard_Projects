{
 "cells": [
  {
   "cell_type": "markdown",
   "metadata": {},
   "source": [
    "# Capstone Modeling Script\n"
   ]
  },
  {
   "cell_type": "code",
   "execution_count": 1,
   "metadata": {},
   "outputs": [],
   "source": [
    "#Import packages\n",
    "import pandas as pd\n",
    "import numpy as np\n",
    "import matplotlib.pyplot as plt\n",
    "import seaborn as sns\n",
    "sns.set()\n",
    "from scipy import stats\n",
    "\n",
    "# Import regression modules\n",
    "import statsmodels\n",
    "import statsmodels.api as sm\n",
    "from statsmodels.formula.api import ols\n",
    "from statsmodels.stats.outliers_influence import variance_inflation_factor\n",
    "from statsmodels import regression\n",
    "from patsy import dmatrices\n",
    "from sklearn.model_selection import train_test_split\n",
    "from sklearn.model_selection import GridSearchCV\n",
    "from sklearn.ensemble import RandomForestRegressor\n",
    "\n",
    "#allow all columns to be viewed:\n",
    "pd.set_option('display.max_columns', None)\n",
    "pd.set_option('display.max_rows', None)"
   ]
  },
  {
   "cell_type": "code",
   "execution_count": 2,
   "metadata": {},
   "outputs": [
    {
     "name": "stdout",
     "output_type": "stream",
     "text": [
      "D:\\Coding Projects\\Springboard\\Springboard_Projects\\Capstone\n"
     ]
    }
   ],
   "source": [
    "current_path = % pwd\n",
    "#If current_path is in Scripts folder, \n",
    "#go up one level so we can open the data folder\n",
    "if (current_path.rsplit('\\\\', 1)[1] == 'Scripts'):\n",
    "    % cd .."
   ]
  },
  {
   "cell_type": "code",
   "execution_count": 3,
   "metadata": {},
   "outputs": [
    {
     "name": "stdout",
     "output_type": "stream",
     "text": [
      "(16011, 73)\n"
     ]
    },
    {
     "data": {
      "text/html": [
       "<div>\n",
       "<style scoped>\n",
       "    .dataframe tbody tr th:only-of-type {\n",
       "        vertical-align: middle;\n",
       "    }\n",
       "\n",
       "    .dataframe tbody tr th {\n",
       "        vertical-align: top;\n",
       "    }\n",
       "\n",
       "    .dataframe thead th {\n",
       "        text-align: right;\n",
       "    }\n",
       "</style>\n",
       "<table border=\"1\" class=\"dataframe\">\n",
       "  <thead>\n",
       "    <tr style=\"text-align: right;\">\n",
       "      <th></th>\n",
       "      <th>id</th>\n",
       "      <th>host_response_time</th>\n",
       "      <th>host_response_rate</th>\n",
       "      <th>host_is_superhost</th>\n",
       "      <th>neighborhood</th>\n",
       "      <th>property_type</th>\n",
       "      <th>room_type</th>\n",
       "      <th>accommodates</th>\n",
       "      <th>bathrooms</th>\n",
       "      <th>bedrooms</th>\n",
       "      <th>beds</th>\n",
       "      <th>bed_type</th>\n",
       "      <th>price</th>\n",
       "      <th>security_deposit</th>\n",
       "      <th>cleaning_fee</th>\n",
       "      <th>guests_included</th>\n",
       "      <th>extra_people</th>\n",
       "      <th>minimum_nights</th>\n",
       "      <th>instant_bookable</th>\n",
       "      <th>cancellation_policy</th>\n",
       "      <th>square_feet_notNA</th>\n",
       "      <th>monthly_price_notNA</th>\n",
       "      <th>weekly_price_notNA</th>\n",
       "      <th>bathrooms_notNA</th>\n",
       "      <th>beds_notNA</th>\n",
       "      <th>bedrooms_notNA</th>\n",
       "      <th>security_deposit_notNA</th>\n",
       "      <th>cleaning_fee_notNA</th>\n",
       "      <th>host_response_rate_notNA</th>\n",
       "      <th>reviews_per_month_notNA</th>\n",
       "      <th>neighbourhood_notNA</th>\n",
       "      <th>host_neighbourhood_notNA</th>\n",
       "      <th>neighbourhood_cleansed_notNA</th>\n",
       "      <th>host_response_time_notNA</th>\n",
       "      <th>host_is_superhost_notNA</th>\n",
       "      <th>has_Wifi</th>\n",
       "      <th>has_Heating</th>\n",
       "      <th>has_Essentials</th>\n",
       "      <th>has_Kitchen</th>\n",
       "      <th>has_Smoke_detector</th>\n",
       "      <th>has_Air_conditioning</th>\n",
       "      <th>has_Hangers</th>\n",
       "      <th>has_Washer</th>\n",
       "      <th>has_Dryer</th>\n",
       "      <th>has_Shampoo</th>\n",
       "      <th>has_TV</th>\n",
       "      <th>has_Familykid_friendly</th>\n",
       "      <th>has_Elevator</th>\n",
       "      <th>has_Free_parking_on_premises</th>\n",
       "      <th>has_Internet</th>\n",
       "      <th>has_Gym</th>\n",
       "      <th>has_Cable_TV</th>\n",
       "      <th>has_Paid_parking_off_premises</th>\n",
       "      <th>has_Pool</th>\n",
       "      <th>has_Hot_tub</th>\n",
       "      <th>has_Pets_allowed</th>\n",
       "      <th>has_Breakfast</th>\n",
       "      <th>has_Buzzerwireless_intercom</th>\n",
       "      <th>has_Indoor_fireplace</th>\n",
       "      <th>has_Free_street_parking</th>\n",
       "      <th>has_Wheelchair_accessible</th>\n",
       "      <th>has_Doorman</th>\n",
       "      <th>has_Pets_live_on_this_property</th>\n",
       "      <th>has_Smoking_allowed</th>\n",
       "      <th>host_lives_near_listing</th>\n",
       "      <th>yelp_bus_count_1</th>\n",
       "      <th>yelp_bus_total_reviews_1</th>\n",
       "      <th>yelp_bus_avg_rating_1</th>\n",
       "      <th>yelp_bus_count_5</th>\n",
       "      <th>yelp_bus_total_reviews_5</th>\n",
       "      <th>yelp_bus_avg_rating_5</th>\n",
       "      <th>log_price</th>\n",
       "      <th>Utilization_Rate</th>\n",
       "    </tr>\n",
       "  </thead>\n",
       "  <tbody>\n",
       "    <tr>\n",
       "      <th>0</th>\n",
       "      <td>1419</td>\n",
       "      <td>within an hour</td>\n",
       "      <td>0.0</td>\n",
       "      <td>f</td>\n",
       "      <td>Little Portugal</td>\n",
       "      <td>House</td>\n",
       "      <td>Entire home/apt</td>\n",
       "      <td>6.0</td>\n",
       "      <td>2.0</td>\n",
       "      <td>3.0</td>\n",
       "      <td>4.0</td>\n",
       "      <td>Real Bed</td>\n",
       "      <td>470.0</td>\n",
       "      <td>1000.0</td>\n",
       "      <td>150.0</td>\n",
       "      <td>1.0</td>\n",
       "      <td>0.0</td>\n",
       "      <td>4.0</td>\n",
       "      <td>f</td>\n",
       "      <td>strict_14_with_grace_period</td>\n",
       "      <td>True</td>\n",
       "      <td>False</td>\n",
       "      <td>True</td>\n",
       "      <td>True</td>\n",
       "      <td>True</td>\n",
       "      <td>True</td>\n",
       "      <td>True</td>\n",
       "      <td>True</td>\n",
       "      <td>False</td>\n",
       "      <td>True</td>\n",
       "      <td>True</td>\n",
       "      <td>True</td>\n",
       "      <td>True</td>\n",
       "      <td>False</td>\n",
       "      <td>True</td>\n",
       "      <td>True</td>\n",
       "      <td>False</td>\n",
       "      <td>False</td>\n",
       "      <td>True</td>\n",
       "      <td>False</td>\n",
       "      <td>True</td>\n",
       "      <td>False</td>\n",
       "      <td>False</td>\n",
       "      <td>False</td>\n",
       "      <td>False</td>\n",
       "      <td>True</td>\n",
       "      <td>False</td>\n",
       "      <td>False</td>\n",
       "      <td>False</td>\n",
       "      <td>True</td>\n",
       "      <td>False</td>\n",
       "      <td>False</td>\n",
       "      <td>False</td>\n",
       "      <td>False</td>\n",
       "      <td>False</td>\n",
       "      <td>False</td>\n",
       "      <td>False</td>\n",
       "      <td>False</td>\n",
       "      <td>False</td>\n",
       "      <td>False</td>\n",
       "      <td>False</td>\n",
       "      <td>False</td>\n",
       "      <td>False</td>\n",
       "      <td>False</td>\n",
       "      <td>False</td>\n",
       "      <td>1.0</td>\n",
       "      <td>66.0</td>\n",
       "      <td>3.50</td>\n",
       "      <td>116.0</td>\n",
       "      <td>8634.0</td>\n",
       "      <td>3.758621</td>\n",
       "      <td>6.152733</td>\n",
       "      <td>0.013053</td>\n",
       "    </tr>\n",
       "    <tr>\n",
       "      <th>1</th>\n",
       "      <td>10314</td>\n",
       "      <td>within an hour</td>\n",
       "      <td>0.0</td>\n",
       "      <td>f</td>\n",
       "      <td>Riverdale</td>\n",
       "      <td>House</td>\n",
       "      <td>Private room</td>\n",
       "      <td>2.0</td>\n",
       "      <td>1.0</td>\n",
       "      <td>1.0</td>\n",
       "      <td>1.0</td>\n",
       "      <td>Real Bed</td>\n",
       "      <td>69.0</td>\n",
       "      <td>0.0</td>\n",
       "      <td>0.0</td>\n",
       "      <td>2.0</td>\n",
       "      <td>20.0</td>\n",
       "      <td>1.0</td>\n",
       "      <td>f</td>\n",
       "      <td>moderate</td>\n",
       "      <td>False</td>\n",
       "      <td>True</td>\n",
       "      <td>True</td>\n",
       "      <td>True</td>\n",
       "      <td>True</td>\n",
       "      <td>True</td>\n",
       "      <td>False</td>\n",
       "      <td>False</td>\n",
       "      <td>False</td>\n",
       "      <td>True</td>\n",
       "      <td>True</td>\n",
       "      <td>True</td>\n",
       "      <td>True</td>\n",
       "      <td>False</td>\n",
       "      <td>True</td>\n",
       "      <td>True</td>\n",
       "      <td>False</td>\n",
       "      <td>False</td>\n",
       "      <td>True</td>\n",
       "      <td>False</td>\n",
       "      <td>True</td>\n",
       "      <td>False</td>\n",
       "      <td>False</td>\n",
       "      <td>False</td>\n",
       "      <td>False</td>\n",
       "      <td>False</td>\n",
       "      <td>False</td>\n",
       "      <td>False</td>\n",
       "      <td>False</td>\n",
       "      <td>False</td>\n",
       "      <td>False</td>\n",
       "      <td>False</td>\n",
       "      <td>False</td>\n",
       "      <td>False</td>\n",
       "      <td>False</td>\n",
       "      <td>False</td>\n",
       "      <td>False</td>\n",
       "      <td>False</td>\n",
       "      <td>False</td>\n",
       "      <td>False</td>\n",
       "      <td>False</td>\n",
       "      <td>False</td>\n",
       "      <td>False</td>\n",
       "      <td>False</td>\n",
       "      <td>True</td>\n",
       "      <td>NaN</td>\n",
       "      <td>NaN</td>\n",
       "      <td>NaN</td>\n",
       "      <td>NaN</td>\n",
       "      <td>NaN</td>\n",
       "      <td>NaN</td>\n",
       "      <td>4.234107</td>\n",
       "      <td>0.042601</td>\n",
       "    </tr>\n",
       "    <tr>\n",
       "      <th>2</th>\n",
       "      <td>12604</td>\n",
       "      <td>within an hour</td>\n",
       "      <td>0.0</td>\n",
       "      <td>f</td>\n",
       "      <td>The Annex</td>\n",
       "      <td>House</td>\n",
       "      <td>Private room</td>\n",
       "      <td>1.0</td>\n",
       "      <td>1.5</td>\n",
       "      <td>1.0</td>\n",
       "      <td>1.0</td>\n",
       "      <td>Pull-out Sofa</td>\n",
       "      <td>65.0</td>\n",
       "      <td>130.0</td>\n",
       "      <td>26.0</td>\n",
       "      <td>1.0</td>\n",
       "      <td>20.0</td>\n",
       "      <td>1.0</td>\n",
       "      <td>f</td>\n",
       "      <td>moderate</td>\n",
       "      <td>True</td>\n",
       "      <td>True</td>\n",
       "      <td>True</td>\n",
       "      <td>True</td>\n",
       "      <td>True</td>\n",
       "      <td>True</td>\n",
       "      <td>True</td>\n",
       "      <td>True</td>\n",
       "      <td>False</td>\n",
       "      <td>False</td>\n",
       "      <td>True</td>\n",
       "      <td>True</td>\n",
       "      <td>True</td>\n",
       "      <td>False</td>\n",
       "      <td>True</td>\n",
       "      <td>True</td>\n",
       "      <td>False</td>\n",
       "      <td>False</td>\n",
       "      <td>False</td>\n",
       "      <td>False</td>\n",
       "      <td>False</td>\n",
       "      <td>False</td>\n",
       "      <td>False</td>\n",
       "      <td>False</td>\n",
       "      <td>False</td>\n",
       "      <td>False</td>\n",
       "      <td>False</td>\n",
       "      <td>False</td>\n",
       "      <td>False</td>\n",
       "      <td>True</td>\n",
       "      <td>False</td>\n",
       "      <td>False</td>\n",
       "      <td>False</td>\n",
       "      <td>False</td>\n",
       "      <td>False</td>\n",
       "      <td>False</td>\n",
       "      <td>False</td>\n",
       "      <td>False</td>\n",
       "      <td>False</td>\n",
       "      <td>False</td>\n",
       "      <td>False</td>\n",
       "      <td>False</td>\n",
       "      <td>True</td>\n",
       "      <td>False</td>\n",
       "      <td>True</td>\n",
       "      <td>NaN</td>\n",
       "      <td>NaN</td>\n",
       "      <td>NaN</td>\n",
       "      <td>11.0</td>\n",
       "      <td>1631.0</td>\n",
       "      <td>3.045455</td>\n",
       "      <td>4.174387</td>\n",
       "      <td>0.000866</td>\n",
       "    </tr>\n",
       "    <tr>\n",
       "      <th>3</th>\n",
       "      <td>17936</td>\n",
       "      <td>within an hour</td>\n",
       "      <td>100.0</td>\n",
       "      <td>t</td>\n",
       "      <td>Kensington Market</td>\n",
       "      <td>Apartment</td>\n",
       "      <td>Private room</td>\n",
       "      <td>4.0</td>\n",
       "      <td>1.0</td>\n",
       "      <td>1.0</td>\n",
       "      <td>2.0</td>\n",
       "      <td>Real Bed</td>\n",
       "      <td>99.0</td>\n",
       "      <td>300.0</td>\n",
       "      <td>80.0</td>\n",
       "      <td>1.0</td>\n",
       "      <td>20.0</td>\n",
       "      <td>2.0</td>\n",
       "      <td>f</td>\n",
       "      <td>strict_14_with_grace_period</td>\n",
       "      <td>False</td>\n",
       "      <td>True</td>\n",
       "      <td>True</td>\n",
       "      <td>True</td>\n",
       "      <td>True</td>\n",
       "      <td>True</td>\n",
       "      <td>True</td>\n",
       "      <td>True</td>\n",
       "      <td>True</td>\n",
       "      <td>True</td>\n",
       "      <td>True</td>\n",
       "      <td>True</td>\n",
       "      <td>True</td>\n",
       "      <td>True</td>\n",
       "      <td>True</td>\n",
       "      <td>True</td>\n",
       "      <td>False</td>\n",
       "      <td>False</td>\n",
       "      <td>True</td>\n",
       "      <td>False</td>\n",
       "      <td>True</td>\n",
       "      <td>False</td>\n",
       "      <td>False</td>\n",
       "      <td>False</td>\n",
       "      <td>False</td>\n",
       "      <td>True</td>\n",
       "      <td>False</td>\n",
       "      <td>False</td>\n",
       "      <td>False</td>\n",
       "      <td>True</td>\n",
       "      <td>False</td>\n",
       "      <td>False</td>\n",
       "      <td>False</td>\n",
       "      <td>False</td>\n",
       "      <td>False</td>\n",
       "      <td>False</td>\n",
       "      <td>False</td>\n",
       "      <td>False</td>\n",
       "      <td>False</td>\n",
       "      <td>False</td>\n",
       "      <td>False</td>\n",
       "      <td>False</td>\n",
       "      <td>False</td>\n",
       "      <td>False</td>\n",
       "      <td>True</td>\n",
       "      <td>20.0</td>\n",
       "      <td>1440.0</td>\n",
       "      <td>3.65</td>\n",
       "      <td>160.0</td>\n",
       "      <td>11434.0</td>\n",
       "      <td>3.715625</td>\n",
       "      <td>4.595120</td>\n",
       "      <td>0.105691</td>\n",
       "    </tr>\n",
       "    <tr>\n",
       "      <th>4</th>\n",
       "      <td>23691</td>\n",
       "      <td>within an hour</td>\n",
       "      <td>100.0</td>\n",
       "      <td>t</td>\n",
       "      <td>Wychwood</td>\n",
       "      <td>House</td>\n",
       "      <td>Private room</td>\n",
       "      <td>2.0</td>\n",
       "      <td>1.0</td>\n",
       "      <td>1.0</td>\n",
       "      <td>1.0</td>\n",
       "      <td>Real Bed</td>\n",
       "      <td>70.0</td>\n",
       "      <td>0.0</td>\n",
       "      <td>0.0</td>\n",
       "      <td>2.0</td>\n",
       "      <td>25.0</td>\n",
       "      <td>1.0</td>\n",
       "      <td>t</td>\n",
       "      <td>strict_14_with_grace_period</td>\n",
       "      <td>False</td>\n",
       "      <td>True</td>\n",
       "      <td>True</td>\n",
       "      <td>True</td>\n",
       "      <td>True</td>\n",
       "      <td>True</td>\n",
       "      <td>True</td>\n",
       "      <td>True</td>\n",
       "      <td>True</td>\n",
       "      <td>True</td>\n",
       "      <td>True</td>\n",
       "      <td>True</td>\n",
       "      <td>True</td>\n",
       "      <td>True</td>\n",
       "      <td>True</td>\n",
       "      <td>True</td>\n",
       "      <td>False</td>\n",
       "      <td>False</td>\n",
       "      <td>True</td>\n",
       "      <td>False</td>\n",
       "      <td>True</td>\n",
       "      <td>False</td>\n",
       "      <td>False</td>\n",
       "      <td>False</td>\n",
       "      <td>False</td>\n",
       "      <td>False</td>\n",
       "      <td>False</td>\n",
       "      <td>False</td>\n",
       "      <td>False</td>\n",
       "      <td>True</td>\n",
       "      <td>False</td>\n",
       "      <td>False</td>\n",
       "      <td>False</td>\n",
       "      <td>False</td>\n",
       "      <td>False</td>\n",
       "      <td>False</td>\n",
       "      <td>False</td>\n",
       "      <td>False</td>\n",
       "      <td>False</td>\n",
       "      <td>False</td>\n",
       "      <td>False</td>\n",
       "      <td>False</td>\n",
       "      <td>False</td>\n",
       "      <td>False</td>\n",
       "      <td>True</td>\n",
       "      <td>NaN</td>\n",
       "      <td>NaN</td>\n",
       "      <td>NaN</td>\n",
       "      <td>11.0</td>\n",
       "      <td>147.0</td>\n",
       "      <td>3.363636</td>\n",
       "      <td>4.248495</td>\n",
       "      <td>0.092562</td>\n",
       "    </tr>\n",
       "  </tbody>\n",
       "</table>\n",
       "</div>"
      ],
      "text/plain": [
       "      id host_response_time  host_response_rate host_is_superhost  \\\n",
       "0   1419     within an hour                 0.0                 f   \n",
       "1  10314     within an hour                 0.0                 f   \n",
       "2  12604     within an hour                 0.0                 f   \n",
       "3  17936     within an hour               100.0                 t   \n",
       "4  23691     within an hour               100.0                 t   \n",
       "\n",
       "        neighborhood property_type        room_type  accommodates  bathrooms  \\\n",
       "0    Little Portugal         House  Entire home/apt           6.0        2.0   \n",
       "1          Riverdale         House     Private room           2.0        1.0   \n",
       "2          The Annex         House     Private room           1.0        1.5   \n",
       "3  Kensington Market     Apartment     Private room           4.0        1.0   \n",
       "4           Wychwood         House     Private room           2.0        1.0   \n",
       "\n",
       "   bedrooms  beds       bed_type  price  security_deposit  cleaning_fee  \\\n",
       "0       3.0   4.0       Real Bed  470.0            1000.0         150.0   \n",
       "1       1.0   1.0       Real Bed   69.0               0.0           0.0   \n",
       "2       1.0   1.0  Pull-out Sofa   65.0             130.0          26.0   \n",
       "3       1.0   2.0       Real Bed   99.0             300.0          80.0   \n",
       "4       1.0   1.0       Real Bed   70.0               0.0           0.0   \n",
       "\n",
       "   guests_included  extra_people  minimum_nights instant_bookable  \\\n",
       "0              1.0           0.0             4.0                f   \n",
       "1              2.0          20.0             1.0                f   \n",
       "2              1.0          20.0             1.0                f   \n",
       "3              1.0          20.0             2.0                f   \n",
       "4              2.0          25.0             1.0                t   \n",
       "\n",
       "           cancellation_policy  square_feet_notNA  monthly_price_notNA  \\\n",
       "0  strict_14_with_grace_period               True                False   \n",
       "1                     moderate              False                 True   \n",
       "2                     moderate               True                 True   \n",
       "3  strict_14_with_grace_period              False                 True   \n",
       "4  strict_14_with_grace_period              False                 True   \n",
       "\n",
       "   weekly_price_notNA  bathrooms_notNA  beds_notNA  bedrooms_notNA  \\\n",
       "0                True             True        True            True   \n",
       "1                True             True        True            True   \n",
       "2                True             True        True            True   \n",
       "3                True             True        True            True   \n",
       "4                True             True        True            True   \n",
       "\n",
       "   security_deposit_notNA  cleaning_fee_notNA  host_response_rate_notNA  \\\n",
       "0                    True                True                     False   \n",
       "1                   False               False                     False   \n",
       "2                    True                True                     False   \n",
       "3                    True                True                      True   \n",
       "4                    True                True                      True   \n",
       "\n",
       "   reviews_per_month_notNA  neighbourhood_notNA  host_neighbourhood_notNA  \\\n",
       "0                     True                 True                      True   \n",
       "1                     True                 True                      True   \n",
       "2                    False                 True                      True   \n",
       "3                     True                 True                      True   \n",
       "4                     True                 True                      True   \n",
       "\n",
       "   neighbourhood_cleansed_notNA  host_response_time_notNA  \\\n",
       "0                          True                     False   \n",
       "1                          True                     False   \n",
       "2                          True                     False   \n",
       "3                          True                      True   \n",
       "4                          True                      True   \n",
       "\n",
       "   host_is_superhost_notNA  has_Wifi  has_Heating  has_Essentials  \\\n",
       "0                     True      True        False           False   \n",
       "1                     True      True        False           False   \n",
       "2                     True      True        False           False   \n",
       "3                     True      True        False           False   \n",
       "4                     True      True        False           False   \n",
       "\n",
       "   has_Kitchen  has_Smoke_detector  has_Air_conditioning  has_Hangers  \\\n",
       "0         True               False                  True        False   \n",
       "1         True               False                  True        False   \n",
       "2        False               False                 False        False   \n",
       "3         True               False                  True        False   \n",
       "4         True               False                  True        False   \n",
       "\n",
       "   has_Washer  has_Dryer  has_Shampoo  has_TV  has_Familykid_friendly  \\\n",
       "0       False      False        False    True                   False   \n",
       "1       False      False        False   False                   False   \n",
       "2       False      False        False   False                   False   \n",
       "3       False      False        False    True                   False   \n",
       "4       False      False        False   False                   False   \n",
       "\n",
       "   has_Elevator  has_Free_parking_on_premises  has_Internet  has_Gym  \\\n",
       "0         False                         False          True    False   \n",
       "1         False                         False         False    False   \n",
       "2         False                         False          True    False   \n",
       "3         False                         False          True    False   \n",
       "4         False                         False          True    False   \n",
       "\n",
       "   has_Cable_TV  has_Paid_parking_off_premises  has_Pool  has_Hot_tub  \\\n",
       "0         False                          False     False        False   \n",
       "1         False                          False     False        False   \n",
       "2         False                          False     False        False   \n",
       "3         False                          False     False        False   \n",
       "4         False                          False     False        False   \n",
       "\n",
       "   has_Pets_allowed  has_Breakfast  has_Buzzerwireless_intercom  \\\n",
       "0             False          False                        False   \n",
       "1             False          False                        False   \n",
       "2             False          False                        False   \n",
       "3             False          False                        False   \n",
       "4             False          False                        False   \n",
       "\n",
       "   has_Indoor_fireplace  has_Free_street_parking  has_Wheelchair_accessible  \\\n",
       "0                 False                    False                      False   \n",
       "1                 False                    False                      False   \n",
       "2                 False                    False                      False   \n",
       "3                 False                    False                      False   \n",
       "4                 False                    False                      False   \n",
       "\n",
       "   has_Doorman  has_Pets_live_on_this_property  has_Smoking_allowed  \\\n",
       "0        False                           False                False   \n",
       "1        False                           False                False   \n",
       "2        False                            True                False   \n",
       "3        False                           False                False   \n",
       "4        False                           False                False   \n",
       "\n",
       "   host_lives_near_listing  yelp_bus_count_1  yelp_bus_total_reviews_1  \\\n",
       "0                    False               1.0                      66.0   \n",
       "1                     True               NaN                       NaN   \n",
       "2                     True               NaN                       NaN   \n",
       "3                     True              20.0                    1440.0   \n",
       "4                     True               NaN                       NaN   \n",
       "\n",
       "   yelp_bus_avg_rating_1  yelp_bus_count_5  yelp_bus_total_reviews_5  \\\n",
       "0                   3.50             116.0                    8634.0   \n",
       "1                    NaN               NaN                       NaN   \n",
       "2                    NaN              11.0                    1631.0   \n",
       "3                   3.65             160.0                   11434.0   \n",
       "4                    NaN              11.0                     147.0   \n",
       "\n",
       "   yelp_bus_avg_rating_5  log_price  Utilization_Rate  \n",
       "0               3.758621   6.152733          0.013053  \n",
       "1                    NaN   4.234107          0.042601  \n",
       "2               3.045455   4.174387          0.000866  \n",
       "3               3.715625   4.595120          0.105691  \n",
       "4               3.363636   4.248495          0.092562  "
      ]
     },
     "execution_count": 3,
     "metadata": {},
     "output_type": "execute_result"
    }
   ],
   "source": [
    "#Import data\n",
    "\n",
    "#Read in AirBnB dataset that has been merged with summarized Yelp information:\n",
    "#... (number of businesses, total reviews, and average star rating for businesses w/in .1 and .5 miles)\n",
    "path1='../Capstone/Data/abb_stat_inf_changes.csv'\n",
    "abb = pd.read_csv(path1)\n",
    "\n",
    "print(abb.shape)\n",
    "abb.head()"
   ]
  },
  {
   "cell_type": "markdown",
   "metadata": {},
   "source": [
    "## Drop Unecessary Variables"
   ]
  },
  {
   "cell_type": "markdown",
   "metadata": {},
   "source": [
    "### Drop Uneeded Amenities\n",
    "Earlier in the Statistical Inference script I ran a series of t-tests to determine whether each Amenity has a statistically significant relationship to Price and/or Utilization Rate.\n",
    "\n",
    "I plan to drop Amenities that did not have a statistically significant relationship. My desired p-value to determine statistical significance is 0.05. However I know that when making multiple comparisons, it is often very easy to have tests that pass the threshold purely by chance. The Bonferroni correction is a simple way to avoid this issue. \n",
    "\n",
    "The number of comparisons being made is 29, so I know my actual p-value threshold needs to be (0.05/29=) 0.0017. I will drop any amenities that did not pass that threshold. \n",
    "\n",
    "Note: There were differences in which Amenities were statistically significant against Price vs. Utilization Rate. At this point I will create two datasets, one to predict Price, the other Utilization Rate, so I can keep the variables with the best relationship to each outcome. "
   ]
  },
  {
   "cell_type": "code",
   "execution_count": 4,
   "metadata": {},
   "outputs": [],
   "source": [
    "#Create copies of dataset\n",
    "abb_Price_predict = abb.copy()\n",
    "abb_Util_predict = abb.copy()"
   ]
  },
  {
   "cell_type": "code",
   "execution_count": 5,
   "metadata": {},
   "outputs": [
    {
     "data": {
      "text/plain": [
       "(16011, 64)"
      ]
     },
     "execution_count": 5,
     "metadata": {},
     "output_type": "execute_result"
    }
   ],
   "source": [
    "#Drop amenity variables with a p-value greater than 0.0017 from Price prediction dataset\n",
    "drop_cols = ['has_Wifi', 'has_Doorman', 'has_Indoor_fireplace', 'has_Familykid_friendly', 'has_Wheelchair_accessible',\n",
    "            'has_Hot_tub', 'has_Hangers', 'has_Buzzerwireless_intercom', 'has_Shampoo']\n",
    "\n",
    "abb_Price_predict.drop(columns=drop_cols, axis=1, inplace=True)\n",
    "\n",
    "abb_Price_predict.shape"
   ]
  },
  {
   "cell_type": "code",
   "execution_count": 6,
   "metadata": {},
   "outputs": [
    {
     "data": {
      "text/plain": [
       "(16011, 52)"
      ]
     },
     "execution_count": 6,
     "metadata": {},
     "output_type": "execute_result"
    }
   ],
   "source": [
    "#Drop amenity variables with a p-value greater than 0.0017 from Utilization_Rate prediction dataset\n",
    "drop_cols = ['has_Hangers', 'has_Smoking_allowed', 'has_Pool', 'has_Hot_tub', 'has_Air_conditioning', 'has_Elevator',\n",
    "            'has_Gym', 'has_Familykid_friendly', 'has_Free_parking_on_premises', 'has_Smoke_detector', 'has_Wheelchair_accessible',\n",
    "            'has_Pets_allowed', 'has_Indoor_fireplace', 'has_Paid_parking_off_premises', 'has_Breakfast', 'has_Doorman',\n",
    "            'has_Essentials', 'has_Free_street_parking', 'has_Pets_live_on_this_property', 'has_Shampoo', 'has_Buzzerwireless_intercom']\n",
    "\n",
    "abb_Util_predict.drop(columns=drop_cols, axis=1, inplace=True)\n",
    "\n",
    "abb_Util_predict.shape"
   ]
  },
  {
   "cell_type": "markdown",
   "metadata": {},
   "source": [
    "### Drop Uneeded \"NA\" Flag Variables\n",
    "\n",
    "Now I will do the same for the \\_notNA variables, which are flag variables I created during data wrangling to tell me if a value was missing for a given variable. I did a series of t-tests on these against Price and Utilization to see which had a statistically significant relationship. \n",
    "\n",
    "This time the number of comparisons was 10, so the p-value threshold they need to pass for significance is (0.05/10=) 0.005.\n",
    "\n",
    "Note: Technically there were 15 \\_notNA variables tested in the Statistical Inference script, but this was a mistake. 5 of those had no NA values (likely the records with missing values were dropped over time for those) so they had no actual data to test. Those variables will be dropped below as well. "
   ]
  },
  {
   "cell_type": "code",
   "execution_count": 7,
   "metadata": {},
   "outputs": [
    {
     "data": {
      "text/plain": [
       "(16011, 52)"
      ]
     },
     "execution_count": 7,
     "metadata": {},
     "output_type": "execute_result"
    }
   ],
   "source": [
    "#Drop _notNA variables with a p-value greater than 0.0017 from Price prediction dataset\n",
    "drop_cols = ['bathrooms_notNA', 'beds_notNA', 'bedrooms_notNA', 'neighbourhood_cleansed_notNA', 'host_is_superhost_notNA',\n",
    "            'monthly_price_notNA', 'weekly_price_notNA', 'neighbourhood_notNA', 'host_response_rate_notNA', 'host_response_time_notNA',\n",
    "            'host_neighbourhood_notNA', 'square_feet_notNA']\n",
    "\n",
    "abb_Price_predict.drop(columns=drop_cols, axis=1, inplace=True)\n",
    "\n",
    "abb_Price_predict.shape"
   ]
  },
  {
   "cell_type": "code",
   "execution_count": 8,
   "metadata": {},
   "outputs": [
    {
     "data": {
      "text/plain": [
       "(16011, 43)"
      ]
     },
     "execution_count": 8,
     "metadata": {},
     "output_type": "execute_result"
    }
   ],
   "source": [
    "#Drop _notNA variables with a p-value greater than 0.0017 from Utilization Rate prediction dataset\n",
    "drop_cols = ['bathrooms_notNA', 'beds_notNA', 'bedrooms_notNA', 'neighbourhood_cleansed_notNA', 'host_is_superhost_notNA',\n",
    "            'square_feet_notNA', 'weekly_price_notNA', 'host_neighbourhood_notNA', 'monthly_price_notNA']\n",
    "\n",
    "abb_Util_predict.drop(columns=drop_cols, axis=1, inplace=True)\n",
    "\n",
    "abb_Util_predict.shape"
   ]
  },
  {
   "cell_type": "markdown",
   "metadata": {},
   "source": [
    "### Drop Yelp Business Metrics w/out Statistical Significance, Create Flag Variables for Having a Business w/in .1 and .5 Miles\n",
    "\n",
    "Next I will drop the Yelp Business metrics that did not show a statistically significant correlation with Price/Utilization (or if the correlation was extremely low). \n",
    "\n",
    "As a reminder, the Yelp Business metrics are Number of Businesses, Total Reviews, and Avg. Star Rating. These were calculated for all businesses within .1 and .5 miles of each AirBnB listing, for 6 variables total. \n",
    "\n",
    "All three of the metrics for busineses within .1 mile had a very low correlation with both Price and Utilization. I will drop all three of the .1 mile metrics. However when doing a t-test comparing the Price of listings with at least one business within .1 mile and those that did not, there was a large and statistically significant price difference (same for those with/without businesses within .5 mile). So before dropping the .1 mile metrics I will create a flag variable that is True if the AirBnB listing has a business within .1 (and .5) miles."
   ]
  },
  {
   "cell_type": "code",
   "execution_count": 9,
   "metadata": {},
   "outputs": [],
   "source": [
    "#Create flag variable indicating if any business was within .1, .5 miles of an AirBnB listing\n",
    "abb_Price_predict['Bus_in_pt_1'] = pd.notna(abb_Price_predict['yelp_bus_count_1'])\n",
    "abb_Price_predict['Bus_in_pt_5'] = pd.notna(abb_Price_predict['yelp_bus_count_5'])\n",
    "\n",
    "abb_Util_predict['Bus_in_pt_1'] = pd.notna(abb_Util_predict['yelp_bus_count_1'])\n",
    "abb_Util_predict['Bus_in_pt_5'] = pd.notna(abb_Util_predict['yelp_bus_count_5'])"
   ]
  },
  {
   "cell_type": "code",
   "execution_count": 10,
   "metadata": {},
   "outputs": [
    {
     "name": "stdout",
     "output_type": "stream",
     "text": [
      "(16011, 51)\n",
      "(16011, 42)\n"
     ]
    }
   ],
   "source": [
    "#Drop .1 mile Yelp Business variables\n",
    "drop_cols = ['yelp_bus_count_1', 'yelp_bus_total_reviews_1', 'yelp_bus_avg_rating_1']\n",
    "\n",
    "abb_Price_predict.drop(columns=drop_cols, axis=1, inplace=True)\n",
    "abb_Util_predict.drop(columns=drop_cols, axis=1, inplace=True)\n",
    "\n",
    "print(abb_Price_predict.shape)\n",
    "print(abb_Util_predict.shape)"
   ]
  },
  {
   "cell_type": "markdown",
   "metadata": {},
   "source": [
    "The .5 mile Yelp Business metrics, specifically Number of Businesses and Total Reviews, did show both a practical correlation coefficient and statistical significance when compared to Price, so those variables will be kept in the Price prediction dataset. The Avg. Rating was not practically significant against Price, so it will be dropped.\n",
    "\n",
    "All three .5 mile Yelp Business metrics were not practically significant against Utilization Rate and will be dropped. "
   ]
  },
  {
   "cell_type": "code",
   "execution_count": 11,
   "metadata": {},
   "outputs": [
    {
     "name": "stdout",
     "output_type": "stream",
     "text": [
      "(16011, 50)\n"
     ]
    }
   ],
   "source": [
    "#Drop .5 mile Yelp Business variables from price prediction dataset\n",
    "drop_cols = ['yelp_bus_avg_rating_5']\n",
    "\n",
    "abb_Price_predict.drop(columns=drop_cols, axis=1, inplace=True)\n",
    "\n",
    "print(abb_Price_predict.shape)"
   ]
  },
  {
   "cell_type": "code",
   "execution_count": 12,
   "metadata": {},
   "outputs": [
    {
     "name": "stdout",
     "output_type": "stream",
     "text": [
      "(16011, 39)\n"
     ]
    }
   ],
   "source": [
    "#Drop .5 mile Yelp Business variables from utilization prediction dataset\n",
    "drop_cols = ['yelp_bus_count_5', 'yelp_bus_total_reviews_5', 'yelp_bus_avg_rating_5']\n",
    "\n",
    "abb_Util_predict.drop(columns=drop_cols, axis=1, inplace=True)\n",
    "\n",
    "print(abb_Util_predict.shape)"
   ]
  },
  {
   "cell_type": "markdown",
   "metadata": {},
   "source": [
    "As a final step I will replace NaN values in the Yelp metrics with 0 to ensure the modeling algorithms do not drop those records."
   ]
  },
  {
   "cell_type": "code",
   "execution_count": 13,
   "metadata": {},
   "outputs": [],
   "source": [
    "abb_Price_predict[['yelp_bus_count_5', 'yelp_bus_total_reviews_5']] = abb_Price_predict[['yelp_bus_count_5', 'yelp_bus_total_reviews_5']].fillna(0.0)"
   ]
  },
  {
   "cell_type": "markdown",
   "metadata": {},
   "source": [
    "## Predicting Price\n",
    "\n",
    "### Produce Baseline Price Prediction Model\n",
    "First I will create a simple baseline linear regression model predicting raw price (not log price) with all of the predictor variables. This will serve as my baseline model to compare future models against. I will use the ols function from the statsmodel package because it gives a nice, very readable output of the important metrics I need for comparison. "
   ]
  },
  {
   "cell_type": "code",
   "execution_count": null,
   "metadata": {},
   "outputs": [],
   "source": [
    "#Create formula components\n",
    "X_cols = \"+\".join(abb_Price_predict.columns.difference(['id', 'price', 'Utilization_Rate', 'log_price']))\n",
    "                  \n",
    "formula = 'price~' + X_cols\n",
    "formula_log = 'log_price~' + X_cols"
   ]
  },
  {
   "cell_type": "code",
   "execution_count": null,
   "metadata": {
    "scrolled": true
   },
   "outputs": [],
   "source": [
    "#Fit baseline model\n",
    "base_m = ols(formula, abb_Price_predict).fit()\n",
    "\n",
    "print(base_m.summary())"
   ]
  },
  {
   "cell_type": "markdown",
   "metadata": {},
   "source": [
    "My model has many input variables so I will use Adjusted R-Squared to evaluate the model. The baseline is decent at .493, indicating that around half of the variation in the outcome variable is explained by this model. However there are more variables than I would like (103), making the model difficult to interpret and explain to others, and the output report indicates there may be strong multicollinearity. Feature selection will need to be performed to fine-tune this model. "
   ]
  },
  {
   "cell_type": "code",
   "execution_count": null,
   "metadata": {},
   "outputs": [],
   "source": [
    "#Put baseline parameters into dataframe for later comparison\n",
    "parameters = pd.DataFrame(base_m.params)\n",
    "parameters.reset_index(level=0, inplace=True)\n",
    "parameters.rename(columns={'index':'Parameter', 0:'Base_Model'}, inplace=True)\n",
    "parameters"
   ]
  },
  {
   "cell_type": "markdown",
   "metadata": {},
   "source": [
    "### Perform Feature Selection Procedures"
   ]
  },
  {
   "cell_type": "markdown",
   "metadata": {},
   "source": [
    "#### Fit Ridge Regression Model"
   ]
  },
  {
   "cell_type": "markdown",
   "metadata": {},
   "source": [
    "Next I will run Ridge regression on the dataset, but first I need to find the optimal value for Alpha. I will loop through values of alpha from 0 to 1, stepping by 0.05, and look for the alpha that only slightly decreases Adjusted R-Squared."
   ]
  },
  {
   "cell_type": "code",
   "execution_count": null,
   "metadata": {},
   "outputs": [],
   "source": [
    "model = ols(formula, abb_Price_predict)"
   ]
  },
  {
   "cell_type": "code",
   "execution_count": null,
   "metadata": {},
   "outputs": [],
   "source": [
    " frames = []\n",
    "for n in np.arange(0, 1, 0.05).tolist():\n",
    "    results_fr = model.fit_regularized(L1_wt=0, alpha=n, start_params=base_m.params)\n",
    "    results_fr_fit = sm.regression.linear_model.OLSResults(model, \n",
    "                                                        results_fr.params\n",
    "                                                       )\n",
    "    frames.append(np.append(n, results_fr_fit.rsquared_adj))"
   ]
  },
  {
   "cell_type": "code",
   "execution_count": null,
   "metadata": {
    "scrolled": true
   },
   "outputs": [],
   "source": [
    "frames = pd.DataFrame(frames).rename(columns={0:'Alpha', 1:\"Adj. R-Squared\"})"
   ]
  },
  {
   "cell_type": "code",
   "execution_count": null,
   "metadata": {},
   "outputs": [],
   "source": [
    "fig=plt.figure(figsize=(10, 5), dpi=120)\n",
    "sns.lineplot(x='Alpha', y='Adj. R-Squared', data=frames,\n",
    "            markers=True, dashes=True)\n",
    "plt.title(\"Adj. R-Squared vs. Alpha\")\n",
    "plt.show()"
   ]
  },
  {
   "cell_type": "markdown",
   "metadata": {},
   "source": [
    "The line decreases fairly steadily but there is a slight \"elbow\" at alpha = 0.05, so I will choose that as my alpha for Ridge Regression."
   ]
  },
  {
   "cell_type": "code",
   "execution_count": null,
   "metadata": {},
   "outputs": [],
   "source": [
    "base_m_Ridge = ols(formula, abb_Price_predict).fit_regularized(alpha=0.05, L1_wt=0)"
   ]
  },
  {
   "cell_type": "code",
   "execution_count": null,
   "metadata": {},
   "outputs": [],
   "source": [
    "ridge_params = pd.DataFrame(base_m_Ridge.params)"
   ]
  },
  {
   "cell_type": "code",
   "execution_count": null,
   "metadata": {},
   "outputs": [],
   "source": [
    "parameters = parameters.join(ridge_params)"
   ]
  },
  {
   "cell_type": "code",
   "execution_count": null,
   "metadata": {},
   "outputs": [],
   "source": [
    "parameters.rename(columns={0:'Ridge Model'}, inplace=True)\n",
    "parameters"
   ]
  },
  {
   "cell_type": "markdown",
   "metadata": {},
   "source": [
    "#### Fit LASSO Model"
   ]
  },
  {
   "cell_type": "markdown",
   "metadata": {},
   "source": [
    "Ridge Regression shrinks the parameters but does not help with telling me what parameters I can safely remove. I would like to reduce the number of predictor variables I am feeding into the model to reduce complexity. To reach that goal I will try LASSO next, because I know it can shrink many predictors to 0. \n",
    "\n",
    "Again I will iterate through different values of alpha and choose the one that reduces complexity while not impacting Adjusted R-Squared too significantly. "
   ]
  },
  {
   "cell_type": "code",
   "execution_count": null,
   "metadata": {},
   "outputs": [],
   "source": [
    "frames = []\n",
    "for n in np.arange(0, 1, 0.05).tolist():\n",
    "    results_fr = model.fit_regularized(L1_wt=1, alpha=n, start_params=base_m.params)\n",
    "    results_fr_fit = sm.regression.linear_model.OLSResults(model, \n",
    "                                                        results_fr.params\n",
    "                                                       )\n",
    "    frames.append(np.append(n, results_fr_fit.rsquared_adj))"
   ]
  },
  {
   "cell_type": "code",
   "execution_count": null,
   "metadata": {},
   "outputs": [],
   "source": [
    "frames = pd.DataFrame(frames).rename(columns={0:'Alpha', 1:\"Adj. R-Squared\"})"
   ]
  },
  {
   "cell_type": "code",
   "execution_count": null,
   "metadata": {},
   "outputs": [],
   "source": [
    "fig=plt.figure(figsize=(10, 5), dpi=120)\n",
    "sns.lineplot(x='Alpha', y='Adj. R-Squared', data=frames,\n",
    "            markers=True, dashes=True)\n",
    "plt.title(\"Adj. R-Squared vs. Alpha\")\n",
    "plt.show()"
   ]
  },
  {
   "cell_type": "markdown",
   "metadata": {},
   "source": [
    "This time the decrease in Adjusted R-Squared is smaller than what I saw in Ridge Regression. I will choose alpha = 0.6 because it corresponds to Adj. R-Squared = 0.46, only a slight decrease from the original 0.49. \n",
    "\n",
    "As shown below, Lasso with alpha=0.6 dropped my model to 24 variables instead of 104. "
   ]
  },
  {
   "cell_type": "code",
   "execution_count": null,
   "metadata": {},
   "outputs": [],
   "source": [
    "base_m_Lasso = ols(formula, abb_Price_predict).fit_regularized(alpha=0.6, L1_wt=1)"
   ]
  },
  {
   "cell_type": "code",
   "execution_count": null,
   "metadata": {},
   "outputs": [],
   "source": [
    "print(\"Variable Count: \" + str(len(base_m_Lasso.params[base_m_Lasso.params != 0].sort_values(ascending=False))))\n",
    "print(base_m_Lasso.params[base_m_Lasso.params != 0].sort_values(ascending=False))\n",
    "lasso_vars = base_m_Lasso.params[base_m_Lasso.params != 0]"
   ]
  },
  {
   "cell_type": "markdown",
   "metadata": {},
   "source": [
    "Next I will create a dataset with just the 24 predictors identified above and test how it performs using standard regression with those predictors."
   ]
  },
  {
   "cell_type": "markdown",
   "metadata": {},
   "source": [
    "#### Fit Random Forest to view Feature Importance\n",
    "\n",
    "Next I plan to use Random Forest as another means of reducing the number of variables. I will start from all variables and use a Feature Importance plot to see which variables I should keep in the model. First I will need to convert all categorical variables into numeric flag variables, which I will do with Pandas get_dummies method. Statsmodels ols function is nice enough to do this automatically so I did not need to do it previously, but Sci-Kit Learn requires encoding ahead of time. "
   ]
  },
  {
   "cell_type": "code",
   "execution_count": null,
   "metadata": {
    "scrolled": false
   },
   "outputs": [],
   "source": [
    "abb_Price_predict_expanded = pd.get_dummies(abb_Price_predict)\n",
    "abb_Price_predict_expanded\n",
    "#X = abb_Price_predict_expanded.columns.difference(['id', 'price', 'Utilization_Rate', 'log_price'])\n",
    "#y = abb_Price_predict_expanded['price']"
   ]
  },
  {
   "cell_type": "markdown",
   "metadata": {},
   "source": [
    "### Fit Model on Log Price using Trimmed Variables"
   ]
  },
  {
   "cell_type": "code",
   "execution_count": null,
   "metadata": {},
   "outputs": [],
   "source": [
    "#Fit baseline model on log price\n",
    "base_m_log = ols(formula_log, abb_Price_predict).fit()\n",
    "\n",
    "print(base_m_log.summary())"
   ]
  },
  {
   "cell_type": "markdown",
   "metadata": {},
   "source": [
    "#### Check Variance Inflation Factors for Multi-Collinearity"
   ]
  },
  {
   "cell_type": "code",
   "execution_count": null,
   "metadata": {},
   "outputs": [],
   "source": [
    "#X = abb_Price_predict.drop(['id', 'price', 'Utilization_Rate', 'log_price'], axis=1)\n",
    "#features = \"+\".join(abb_Price_predict.columns - [['id', 'price', 'Utilization_Rate', 'log_price']])\n",
    "y, X = dmatrices('price~' + X_cols, abb_Price_predict, return_type='dataframe')"
   ]
  },
  {
   "cell_type": "code",
   "execution_count": null,
   "metadata": {},
   "outputs": [],
   "source": [
    "vif = pd.DataFrame()\n",
    "vif[\"VIF Factor\"] = [variance_inflation_factor(X.values, i) for i in range(X.shape[1])]\n",
    "vif[\"features\"] = X.columns"
   ]
  },
  {
   "cell_type": "code",
   "execution_count": null,
   "metadata": {},
   "outputs": [],
   "source": [
    "vif.round(1)"
   ]
  },
  {
   "cell_type": "markdown",
   "metadata": {},
   "source": [
    "## Predicting Utilization Rate\n",
    "\n",
    "### Produce Baseline Utilization Rate Prediction Model\n",
    "\n",
    "#### First Calculate Price vs. Predicted Price Delta"
   ]
  }
 ],
 "metadata": {
  "kernelspec": {
   "display_name": "Python 3",
   "language": "python",
   "name": "python3"
  },
  "language_info": {
   "codemirror_mode": {
    "name": "ipython",
    "version": 3
   },
   "file_extension": ".py",
   "mimetype": "text/x-python",
   "name": "python",
   "nbconvert_exporter": "python",
   "pygments_lexer": "ipython3",
   "version": "3.6.5"
  }
 },
 "nbformat": 4,
 "nbformat_minor": 2
}
