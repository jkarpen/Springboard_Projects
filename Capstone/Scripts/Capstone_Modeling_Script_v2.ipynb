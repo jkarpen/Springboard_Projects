{
 "cells": [
  {
   "cell_type": "markdown",
   "metadata": {},
   "source": [
    "# Capstone Modeling Script\n"
   ]
  },
  {
   "cell_type": "code",
   "execution_count": 39,
   "metadata": {},
   "outputs": [],
   "source": [
    "#Import general data manipulation/plotting packages\n",
    "import pandas as pd\n",
    "import numpy as np\n",
    "import matplotlib.pyplot as plt\n",
    "import seaborn as sns\n",
    "sns.set()\n",
    "from scipy import stats\n",
    "\n",
    "#Import data preprocessing packages\n",
    "from sklearn.preprocessing import MinMaxScaler\n",
    "from sklearn.pipeline import Pipeline\n",
    "\n",
    "#Import train/test and cross validation packages\n",
    "from sklearn.model_selection import train_test_split\n",
    "from sklearn.model_selection import GridSearchCV\n",
    "from sklearn.feature_selection import RFECV\n",
    "from sklearn.model_selection import cross_val_score\n",
    "\n",
    "#Import regression packages\n",
    "import statsmodels\n",
    "import statsmodels.api as sm\n",
    "from statsmodels.formula.api import ols\n",
    "from statsmodels.stats.outliers_influence import variance_inflation_factor\n",
    "from statsmodels import regression\n",
    "from patsy import dmatrices\n",
    "from sklearn.linear_model import LinearRegression\n",
    "from sklearn.linear_model import Lasso\n",
    "from sklearn.linear_model import Ridge\n",
    "\n",
    "#Import random forest package\n",
    "from sklearn.ensemble import RandomForestRegressor\n",
    "\n",
    "#Import scoring metrics\n",
    "from sklearn.metrics import mean_squared_error\n",
    "\n",
    "#allow all columns to be viewed:\n",
    "pd.set_option('display.max_columns', None)\n",
    "pd.set_option('display.max_rows', None)"
   ]
  },
  {
   "cell_type": "code",
   "execution_count": 2,
   "metadata": {},
   "outputs": [
    {
     "name": "stdout",
     "output_type": "stream",
     "text": [
      "D:\\Coding Projects\\Springboard\\Springboard_Projects\\Capstone\n"
     ]
    }
   ],
   "source": [
    "current_path = % pwd\n",
    "#If current_path is in Scripts folder, \n",
    "#go up one level so we can open the data folder\n",
    "if (current_path.rsplit('\\\\', 1)[1] == 'Scripts'):\n",
    "    % cd .."
   ]
  },
  {
   "cell_type": "code",
   "execution_count": 3,
   "metadata": {},
   "outputs": [
    {
     "name": "stdout",
     "output_type": "stream",
     "text": [
      "(16011, 73)\n"
     ]
    },
    {
     "data": {
      "text/html": [
       "<div>\n",
       "<style scoped>\n",
       "    .dataframe tbody tr th:only-of-type {\n",
       "        vertical-align: middle;\n",
       "    }\n",
       "\n",
       "    .dataframe tbody tr th {\n",
       "        vertical-align: top;\n",
       "    }\n",
       "\n",
       "    .dataframe thead th {\n",
       "        text-align: right;\n",
       "    }\n",
       "</style>\n",
       "<table border=\"1\" class=\"dataframe\">\n",
       "  <thead>\n",
       "    <tr style=\"text-align: right;\">\n",
       "      <th></th>\n",
       "      <th>id</th>\n",
       "      <th>host_response_time</th>\n",
       "      <th>host_response_rate</th>\n",
       "      <th>host_is_superhost</th>\n",
       "      <th>neighborhood</th>\n",
       "      <th>property_type</th>\n",
       "      <th>room_type</th>\n",
       "      <th>accommodates</th>\n",
       "      <th>bathrooms</th>\n",
       "      <th>bedrooms</th>\n",
       "      <th>beds</th>\n",
       "      <th>bed_type</th>\n",
       "      <th>price</th>\n",
       "      <th>security_deposit</th>\n",
       "      <th>cleaning_fee</th>\n",
       "      <th>guests_included</th>\n",
       "      <th>extra_people</th>\n",
       "      <th>minimum_nights</th>\n",
       "      <th>instant_bookable</th>\n",
       "      <th>cancellation_policy</th>\n",
       "      <th>square_feet_notNA</th>\n",
       "      <th>monthly_price_notNA</th>\n",
       "      <th>weekly_price_notNA</th>\n",
       "      <th>bathrooms_notNA</th>\n",
       "      <th>beds_notNA</th>\n",
       "      <th>bedrooms_notNA</th>\n",
       "      <th>security_deposit_notNA</th>\n",
       "      <th>cleaning_fee_notNA</th>\n",
       "      <th>host_response_rate_notNA</th>\n",
       "      <th>reviews_per_month_notNA</th>\n",
       "      <th>neighbourhood_notNA</th>\n",
       "      <th>host_neighbourhood_notNA</th>\n",
       "      <th>neighbourhood_cleansed_notNA</th>\n",
       "      <th>host_response_time_notNA</th>\n",
       "      <th>host_is_superhost_notNA</th>\n",
       "      <th>has_Wifi</th>\n",
       "      <th>has_Heating</th>\n",
       "      <th>has_Essentials</th>\n",
       "      <th>has_Kitchen</th>\n",
       "      <th>has_Smoke_detector</th>\n",
       "      <th>has_Air_conditioning</th>\n",
       "      <th>has_Hangers</th>\n",
       "      <th>has_Washer</th>\n",
       "      <th>has_Dryer</th>\n",
       "      <th>has_Shampoo</th>\n",
       "      <th>has_TV</th>\n",
       "      <th>has_Familykid_friendly</th>\n",
       "      <th>has_Elevator</th>\n",
       "      <th>has_Free_parking_on_premises</th>\n",
       "      <th>has_Internet</th>\n",
       "      <th>has_Gym</th>\n",
       "      <th>has_Cable_TV</th>\n",
       "      <th>has_Paid_parking_off_premises</th>\n",
       "      <th>has_Pool</th>\n",
       "      <th>has_Hot_tub</th>\n",
       "      <th>has_Pets_allowed</th>\n",
       "      <th>has_Breakfast</th>\n",
       "      <th>has_Buzzerwireless_intercom</th>\n",
       "      <th>has_Indoor_fireplace</th>\n",
       "      <th>has_Free_street_parking</th>\n",
       "      <th>has_Wheelchair_accessible</th>\n",
       "      <th>has_Doorman</th>\n",
       "      <th>has_Pets_live_on_this_property</th>\n",
       "      <th>has_Smoking_allowed</th>\n",
       "      <th>host_lives_near_listing</th>\n",
       "      <th>yelp_bus_count_1</th>\n",
       "      <th>yelp_bus_total_reviews_1</th>\n",
       "      <th>yelp_bus_avg_rating_1</th>\n",
       "      <th>yelp_bus_count_5</th>\n",
       "      <th>yelp_bus_total_reviews_5</th>\n",
       "      <th>yelp_bus_avg_rating_5</th>\n",
       "      <th>log_price</th>\n",
       "      <th>Utilization_Rate</th>\n",
       "    </tr>\n",
       "  </thead>\n",
       "  <tbody>\n",
       "    <tr>\n",
       "      <th>0</th>\n",
       "      <td>1419</td>\n",
       "      <td>within an hour</td>\n",
       "      <td>0.0</td>\n",
       "      <td>f</td>\n",
       "      <td>Little Portugal</td>\n",
       "      <td>House</td>\n",
       "      <td>Entire home/apt</td>\n",
       "      <td>6.0</td>\n",
       "      <td>2.0</td>\n",
       "      <td>3.0</td>\n",
       "      <td>4.0</td>\n",
       "      <td>Real Bed</td>\n",
       "      <td>470.0</td>\n",
       "      <td>1000.0</td>\n",
       "      <td>150.0</td>\n",
       "      <td>1.0</td>\n",
       "      <td>0.0</td>\n",
       "      <td>4.0</td>\n",
       "      <td>f</td>\n",
       "      <td>strict_14_with_grace_period</td>\n",
       "      <td>True</td>\n",
       "      <td>False</td>\n",
       "      <td>True</td>\n",
       "      <td>True</td>\n",
       "      <td>True</td>\n",
       "      <td>True</td>\n",
       "      <td>True</td>\n",
       "      <td>True</td>\n",
       "      <td>False</td>\n",
       "      <td>True</td>\n",
       "      <td>True</td>\n",
       "      <td>True</td>\n",
       "      <td>True</td>\n",
       "      <td>False</td>\n",
       "      <td>True</td>\n",
       "      <td>True</td>\n",
       "      <td>False</td>\n",
       "      <td>False</td>\n",
       "      <td>True</td>\n",
       "      <td>False</td>\n",
       "      <td>True</td>\n",
       "      <td>False</td>\n",
       "      <td>False</td>\n",
       "      <td>False</td>\n",
       "      <td>False</td>\n",
       "      <td>True</td>\n",
       "      <td>False</td>\n",
       "      <td>False</td>\n",
       "      <td>False</td>\n",
       "      <td>True</td>\n",
       "      <td>False</td>\n",
       "      <td>False</td>\n",
       "      <td>False</td>\n",
       "      <td>False</td>\n",
       "      <td>False</td>\n",
       "      <td>False</td>\n",
       "      <td>False</td>\n",
       "      <td>False</td>\n",
       "      <td>False</td>\n",
       "      <td>False</td>\n",
       "      <td>False</td>\n",
       "      <td>False</td>\n",
       "      <td>False</td>\n",
       "      <td>False</td>\n",
       "      <td>False</td>\n",
       "      <td>1.0</td>\n",
       "      <td>66.0</td>\n",
       "      <td>3.50</td>\n",
       "      <td>116.0</td>\n",
       "      <td>8634.0</td>\n",
       "      <td>3.758621</td>\n",
       "      <td>6.152733</td>\n",
       "      <td>0.013053</td>\n",
       "    </tr>\n",
       "    <tr>\n",
       "      <th>1</th>\n",
       "      <td>10314</td>\n",
       "      <td>within an hour</td>\n",
       "      <td>0.0</td>\n",
       "      <td>f</td>\n",
       "      <td>Riverdale</td>\n",
       "      <td>House</td>\n",
       "      <td>Private room</td>\n",
       "      <td>2.0</td>\n",
       "      <td>1.0</td>\n",
       "      <td>1.0</td>\n",
       "      <td>1.0</td>\n",
       "      <td>Real Bed</td>\n",
       "      <td>69.0</td>\n",
       "      <td>0.0</td>\n",
       "      <td>0.0</td>\n",
       "      <td>2.0</td>\n",
       "      <td>20.0</td>\n",
       "      <td>1.0</td>\n",
       "      <td>f</td>\n",
       "      <td>moderate</td>\n",
       "      <td>False</td>\n",
       "      <td>True</td>\n",
       "      <td>True</td>\n",
       "      <td>True</td>\n",
       "      <td>True</td>\n",
       "      <td>True</td>\n",
       "      <td>False</td>\n",
       "      <td>False</td>\n",
       "      <td>False</td>\n",
       "      <td>True</td>\n",
       "      <td>True</td>\n",
       "      <td>True</td>\n",
       "      <td>True</td>\n",
       "      <td>False</td>\n",
       "      <td>True</td>\n",
       "      <td>True</td>\n",
       "      <td>False</td>\n",
       "      <td>False</td>\n",
       "      <td>True</td>\n",
       "      <td>False</td>\n",
       "      <td>True</td>\n",
       "      <td>False</td>\n",
       "      <td>False</td>\n",
       "      <td>False</td>\n",
       "      <td>False</td>\n",
       "      <td>False</td>\n",
       "      <td>False</td>\n",
       "      <td>False</td>\n",
       "      <td>False</td>\n",
       "      <td>False</td>\n",
       "      <td>False</td>\n",
       "      <td>False</td>\n",
       "      <td>False</td>\n",
       "      <td>False</td>\n",
       "      <td>False</td>\n",
       "      <td>False</td>\n",
       "      <td>False</td>\n",
       "      <td>False</td>\n",
       "      <td>False</td>\n",
       "      <td>False</td>\n",
       "      <td>False</td>\n",
       "      <td>False</td>\n",
       "      <td>False</td>\n",
       "      <td>False</td>\n",
       "      <td>True</td>\n",
       "      <td>NaN</td>\n",
       "      <td>NaN</td>\n",
       "      <td>NaN</td>\n",
       "      <td>NaN</td>\n",
       "      <td>NaN</td>\n",
       "      <td>NaN</td>\n",
       "      <td>4.234107</td>\n",
       "      <td>0.042601</td>\n",
       "    </tr>\n",
       "    <tr>\n",
       "      <th>2</th>\n",
       "      <td>12604</td>\n",
       "      <td>within an hour</td>\n",
       "      <td>0.0</td>\n",
       "      <td>f</td>\n",
       "      <td>The Annex</td>\n",
       "      <td>House</td>\n",
       "      <td>Private room</td>\n",
       "      <td>1.0</td>\n",
       "      <td>1.5</td>\n",
       "      <td>1.0</td>\n",
       "      <td>1.0</td>\n",
       "      <td>Pull-out Sofa</td>\n",
       "      <td>65.0</td>\n",
       "      <td>130.0</td>\n",
       "      <td>26.0</td>\n",
       "      <td>1.0</td>\n",
       "      <td>20.0</td>\n",
       "      <td>1.0</td>\n",
       "      <td>f</td>\n",
       "      <td>moderate</td>\n",
       "      <td>True</td>\n",
       "      <td>True</td>\n",
       "      <td>True</td>\n",
       "      <td>True</td>\n",
       "      <td>True</td>\n",
       "      <td>True</td>\n",
       "      <td>True</td>\n",
       "      <td>True</td>\n",
       "      <td>False</td>\n",
       "      <td>False</td>\n",
       "      <td>True</td>\n",
       "      <td>True</td>\n",
       "      <td>True</td>\n",
       "      <td>False</td>\n",
       "      <td>True</td>\n",
       "      <td>True</td>\n",
       "      <td>False</td>\n",
       "      <td>False</td>\n",
       "      <td>False</td>\n",
       "      <td>False</td>\n",
       "      <td>False</td>\n",
       "      <td>False</td>\n",
       "      <td>False</td>\n",
       "      <td>False</td>\n",
       "      <td>False</td>\n",
       "      <td>False</td>\n",
       "      <td>False</td>\n",
       "      <td>False</td>\n",
       "      <td>False</td>\n",
       "      <td>True</td>\n",
       "      <td>False</td>\n",
       "      <td>False</td>\n",
       "      <td>False</td>\n",
       "      <td>False</td>\n",
       "      <td>False</td>\n",
       "      <td>False</td>\n",
       "      <td>False</td>\n",
       "      <td>False</td>\n",
       "      <td>False</td>\n",
       "      <td>False</td>\n",
       "      <td>False</td>\n",
       "      <td>False</td>\n",
       "      <td>True</td>\n",
       "      <td>False</td>\n",
       "      <td>True</td>\n",
       "      <td>NaN</td>\n",
       "      <td>NaN</td>\n",
       "      <td>NaN</td>\n",
       "      <td>11.0</td>\n",
       "      <td>1631.0</td>\n",
       "      <td>3.045455</td>\n",
       "      <td>4.174387</td>\n",
       "      <td>0.000866</td>\n",
       "    </tr>\n",
       "    <tr>\n",
       "      <th>3</th>\n",
       "      <td>17936</td>\n",
       "      <td>within an hour</td>\n",
       "      <td>100.0</td>\n",
       "      <td>t</td>\n",
       "      <td>Kensington Market</td>\n",
       "      <td>Apartment</td>\n",
       "      <td>Private room</td>\n",
       "      <td>4.0</td>\n",
       "      <td>1.0</td>\n",
       "      <td>1.0</td>\n",
       "      <td>2.0</td>\n",
       "      <td>Real Bed</td>\n",
       "      <td>99.0</td>\n",
       "      <td>300.0</td>\n",
       "      <td>80.0</td>\n",
       "      <td>1.0</td>\n",
       "      <td>20.0</td>\n",
       "      <td>2.0</td>\n",
       "      <td>f</td>\n",
       "      <td>strict_14_with_grace_period</td>\n",
       "      <td>False</td>\n",
       "      <td>True</td>\n",
       "      <td>True</td>\n",
       "      <td>True</td>\n",
       "      <td>True</td>\n",
       "      <td>True</td>\n",
       "      <td>True</td>\n",
       "      <td>True</td>\n",
       "      <td>True</td>\n",
       "      <td>True</td>\n",
       "      <td>True</td>\n",
       "      <td>True</td>\n",
       "      <td>True</td>\n",
       "      <td>True</td>\n",
       "      <td>True</td>\n",
       "      <td>True</td>\n",
       "      <td>False</td>\n",
       "      <td>False</td>\n",
       "      <td>True</td>\n",
       "      <td>False</td>\n",
       "      <td>True</td>\n",
       "      <td>False</td>\n",
       "      <td>False</td>\n",
       "      <td>False</td>\n",
       "      <td>False</td>\n",
       "      <td>True</td>\n",
       "      <td>False</td>\n",
       "      <td>False</td>\n",
       "      <td>False</td>\n",
       "      <td>True</td>\n",
       "      <td>False</td>\n",
       "      <td>False</td>\n",
       "      <td>False</td>\n",
       "      <td>False</td>\n",
       "      <td>False</td>\n",
       "      <td>False</td>\n",
       "      <td>False</td>\n",
       "      <td>False</td>\n",
       "      <td>False</td>\n",
       "      <td>False</td>\n",
       "      <td>False</td>\n",
       "      <td>False</td>\n",
       "      <td>False</td>\n",
       "      <td>False</td>\n",
       "      <td>True</td>\n",
       "      <td>20.0</td>\n",
       "      <td>1440.0</td>\n",
       "      <td>3.65</td>\n",
       "      <td>160.0</td>\n",
       "      <td>11434.0</td>\n",
       "      <td>3.715625</td>\n",
       "      <td>4.595120</td>\n",
       "      <td>0.105691</td>\n",
       "    </tr>\n",
       "    <tr>\n",
       "      <th>4</th>\n",
       "      <td>23691</td>\n",
       "      <td>within an hour</td>\n",
       "      <td>100.0</td>\n",
       "      <td>t</td>\n",
       "      <td>Wychwood</td>\n",
       "      <td>House</td>\n",
       "      <td>Private room</td>\n",
       "      <td>2.0</td>\n",
       "      <td>1.0</td>\n",
       "      <td>1.0</td>\n",
       "      <td>1.0</td>\n",
       "      <td>Real Bed</td>\n",
       "      <td>70.0</td>\n",
       "      <td>0.0</td>\n",
       "      <td>0.0</td>\n",
       "      <td>2.0</td>\n",
       "      <td>25.0</td>\n",
       "      <td>1.0</td>\n",
       "      <td>t</td>\n",
       "      <td>strict_14_with_grace_period</td>\n",
       "      <td>False</td>\n",
       "      <td>True</td>\n",
       "      <td>True</td>\n",
       "      <td>True</td>\n",
       "      <td>True</td>\n",
       "      <td>True</td>\n",
       "      <td>True</td>\n",
       "      <td>True</td>\n",
       "      <td>True</td>\n",
       "      <td>True</td>\n",
       "      <td>True</td>\n",
       "      <td>True</td>\n",
       "      <td>True</td>\n",
       "      <td>True</td>\n",
       "      <td>True</td>\n",
       "      <td>True</td>\n",
       "      <td>False</td>\n",
       "      <td>False</td>\n",
       "      <td>True</td>\n",
       "      <td>False</td>\n",
       "      <td>True</td>\n",
       "      <td>False</td>\n",
       "      <td>False</td>\n",
       "      <td>False</td>\n",
       "      <td>False</td>\n",
       "      <td>False</td>\n",
       "      <td>False</td>\n",
       "      <td>False</td>\n",
       "      <td>False</td>\n",
       "      <td>True</td>\n",
       "      <td>False</td>\n",
       "      <td>False</td>\n",
       "      <td>False</td>\n",
       "      <td>False</td>\n",
       "      <td>False</td>\n",
       "      <td>False</td>\n",
       "      <td>False</td>\n",
       "      <td>False</td>\n",
       "      <td>False</td>\n",
       "      <td>False</td>\n",
       "      <td>False</td>\n",
       "      <td>False</td>\n",
       "      <td>False</td>\n",
       "      <td>False</td>\n",
       "      <td>True</td>\n",
       "      <td>NaN</td>\n",
       "      <td>NaN</td>\n",
       "      <td>NaN</td>\n",
       "      <td>11.0</td>\n",
       "      <td>147.0</td>\n",
       "      <td>3.363636</td>\n",
       "      <td>4.248495</td>\n",
       "      <td>0.092562</td>\n",
       "    </tr>\n",
       "  </tbody>\n",
       "</table>\n",
       "</div>"
      ],
      "text/plain": [
       "      id host_response_time  host_response_rate host_is_superhost  \\\n",
       "0   1419     within an hour                 0.0                 f   \n",
       "1  10314     within an hour                 0.0                 f   \n",
       "2  12604     within an hour                 0.0                 f   \n",
       "3  17936     within an hour               100.0                 t   \n",
       "4  23691     within an hour               100.0                 t   \n",
       "\n",
       "        neighborhood property_type        room_type  accommodates  bathrooms  \\\n",
       "0    Little Portugal         House  Entire home/apt           6.0        2.0   \n",
       "1          Riverdale         House     Private room           2.0        1.0   \n",
       "2          The Annex         House     Private room           1.0        1.5   \n",
       "3  Kensington Market     Apartment     Private room           4.0        1.0   \n",
       "4           Wychwood         House     Private room           2.0        1.0   \n",
       "\n",
       "   bedrooms  beds       bed_type  price  security_deposit  cleaning_fee  \\\n",
       "0       3.0   4.0       Real Bed  470.0            1000.0         150.0   \n",
       "1       1.0   1.0       Real Bed   69.0               0.0           0.0   \n",
       "2       1.0   1.0  Pull-out Sofa   65.0             130.0          26.0   \n",
       "3       1.0   2.0       Real Bed   99.0             300.0          80.0   \n",
       "4       1.0   1.0       Real Bed   70.0               0.0           0.0   \n",
       "\n",
       "   guests_included  extra_people  minimum_nights instant_bookable  \\\n",
       "0              1.0           0.0             4.0                f   \n",
       "1              2.0          20.0             1.0                f   \n",
       "2              1.0          20.0             1.0                f   \n",
       "3              1.0          20.0             2.0                f   \n",
       "4              2.0          25.0             1.0                t   \n",
       "\n",
       "           cancellation_policy  square_feet_notNA  monthly_price_notNA  \\\n",
       "0  strict_14_with_grace_period               True                False   \n",
       "1                     moderate              False                 True   \n",
       "2                     moderate               True                 True   \n",
       "3  strict_14_with_grace_period              False                 True   \n",
       "4  strict_14_with_grace_period              False                 True   \n",
       "\n",
       "   weekly_price_notNA  bathrooms_notNA  beds_notNA  bedrooms_notNA  \\\n",
       "0                True             True        True            True   \n",
       "1                True             True        True            True   \n",
       "2                True             True        True            True   \n",
       "3                True             True        True            True   \n",
       "4                True             True        True            True   \n",
       "\n",
       "   security_deposit_notNA  cleaning_fee_notNA  host_response_rate_notNA  \\\n",
       "0                    True                True                     False   \n",
       "1                   False               False                     False   \n",
       "2                    True                True                     False   \n",
       "3                    True                True                      True   \n",
       "4                    True                True                      True   \n",
       "\n",
       "   reviews_per_month_notNA  neighbourhood_notNA  host_neighbourhood_notNA  \\\n",
       "0                     True                 True                      True   \n",
       "1                     True                 True                      True   \n",
       "2                    False                 True                      True   \n",
       "3                     True                 True                      True   \n",
       "4                     True                 True                      True   \n",
       "\n",
       "   neighbourhood_cleansed_notNA  host_response_time_notNA  \\\n",
       "0                          True                     False   \n",
       "1                          True                     False   \n",
       "2                          True                     False   \n",
       "3                          True                      True   \n",
       "4                          True                      True   \n",
       "\n",
       "   host_is_superhost_notNA  has_Wifi  has_Heating  has_Essentials  \\\n",
       "0                     True      True        False           False   \n",
       "1                     True      True        False           False   \n",
       "2                     True      True        False           False   \n",
       "3                     True      True        False           False   \n",
       "4                     True      True        False           False   \n",
       "\n",
       "   has_Kitchen  has_Smoke_detector  has_Air_conditioning  has_Hangers  \\\n",
       "0         True               False                  True        False   \n",
       "1         True               False                  True        False   \n",
       "2        False               False                 False        False   \n",
       "3         True               False                  True        False   \n",
       "4         True               False                  True        False   \n",
       "\n",
       "   has_Washer  has_Dryer  has_Shampoo  has_TV  has_Familykid_friendly  \\\n",
       "0       False      False        False    True                   False   \n",
       "1       False      False        False   False                   False   \n",
       "2       False      False        False   False                   False   \n",
       "3       False      False        False    True                   False   \n",
       "4       False      False        False   False                   False   \n",
       "\n",
       "   has_Elevator  has_Free_parking_on_premises  has_Internet  has_Gym  \\\n",
       "0         False                         False          True    False   \n",
       "1         False                         False         False    False   \n",
       "2         False                         False          True    False   \n",
       "3         False                         False          True    False   \n",
       "4         False                         False          True    False   \n",
       "\n",
       "   has_Cable_TV  has_Paid_parking_off_premises  has_Pool  has_Hot_tub  \\\n",
       "0         False                          False     False        False   \n",
       "1         False                          False     False        False   \n",
       "2         False                          False     False        False   \n",
       "3         False                          False     False        False   \n",
       "4         False                          False     False        False   \n",
       "\n",
       "   has_Pets_allowed  has_Breakfast  has_Buzzerwireless_intercom  \\\n",
       "0             False          False                        False   \n",
       "1             False          False                        False   \n",
       "2             False          False                        False   \n",
       "3             False          False                        False   \n",
       "4             False          False                        False   \n",
       "\n",
       "   has_Indoor_fireplace  has_Free_street_parking  has_Wheelchair_accessible  \\\n",
       "0                 False                    False                      False   \n",
       "1                 False                    False                      False   \n",
       "2                 False                    False                      False   \n",
       "3                 False                    False                      False   \n",
       "4                 False                    False                      False   \n",
       "\n",
       "   has_Doorman  has_Pets_live_on_this_property  has_Smoking_allowed  \\\n",
       "0        False                           False                False   \n",
       "1        False                           False                False   \n",
       "2        False                            True                False   \n",
       "3        False                           False                False   \n",
       "4        False                           False                False   \n",
       "\n",
       "   host_lives_near_listing  yelp_bus_count_1  yelp_bus_total_reviews_1  \\\n",
       "0                    False               1.0                      66.0   \n",
       "1                     True               NaN                       NaN   \n",
       "2                     True               NaN                       NaN   \n",
       "3                     True              20.0                    1440.0   \n",
       "4                     True               NaN                       NaN   \n",
       "\n",
       "   yelp_bus_avg_rating_1  yelp_bus_count_5  yelp_bus_total_reviews_5  \\\n",
       "0                   3.50             116.0                    8634.0   \n",
       "1                    NaN               NaN                       NaN   \n",
       "2                    NaN              11.0                    1631.0   \n",
       "3                   3.65             160.0                   11434.0   \n",
       "4                    NaN              11.0                     147.0   \n",
       "\n",
       "   yelp_bus_avg_rating_5  log_price  Utilization_Rate  \n",
       "0               3.758621   6.152733          0.013053  \n",
       "1                    NaN   4.234107          0.042601  \n",
       "2               3.045455   4.174387          0.000866  \n",
       "3               3.715625   4.595120          0.105691  \n",
       "4               3.363636   4.248495          0.092562  "
      ]
     },
     "execution_count": 3,
     "metadata": {},
     "output_type": "execute_result"
    }
   ],
   "source": [
    "#Import data\n",
    "\n",
    "#Read in AirBnB dataset that has been merged with summarized Yelp information:\n",
    "#... (number of businesses, total reviews, and average star rating for businesses w/in .1 and .5 miles)\n",
    "path1='../Capstone/Data/abb_stat_inf_changes.csv'\n",
    "abb = pd.read_csv(path1)\n",
    "\n",
    "print(abb.shape)\n",
    "abb.head()"
   ]
  },
  {
   "cell_type": "markdown",
   "metadata": {},
   "source": [
    "## Drop Unecessary Variables"
   ]
  },
  {
   "cell_type": "markdown",
   "metadata": {},
   "source": [
    "### Drop Uneeded Amenities\n",
    "Earlier in the Statistical Inference script I ran a series of t-tests to determine whether each Amenity has a statistically significant relationship to Price and/or Utilization Rate.\n",
    "\n",
    "I plan to drop Amenities that did not have a statistically significant relationship. My desired p-value to determine statistical significance is 0.05. However I know that when making multiple comparisons, it is often very easy to have tests that pass the threshold purely by chance. The Bonferroni correction is a simple way to avoid this issue. \n",
    "\n",
    "The number of comparisons being made is 29, so I know my actual p-value threshold needs to be (0.05/29=) 0.0017. I will drop any amenities that did not pass that threshold. \n",
    "\n",
    "Note: There were differences in which Amenities were statistically significant against Price vs. Utilization Rate. At this point I will create two datasets, one to predict Price, the other Utilization Rate, so I can keep the variables with the best relationship to each outcome. "
   ]
  },
  {
   "cell_type": "code",
   "execution_count": 4,
   "metadata": {},
   "outputs": [],
   "source": [
    "#Create copies of dataset\n",
    "abb_Price_predict = abb.copy()\n",
    "abb_Util_predict = abb.copy()"
   ]
  },
  {
   "cell_type": "code",
   "execution_count": 5,
   "metadata": {},
   "outputs": [
    {
     "data": {
      "text/plain": [
       "(16011, 64)"
      ]
     },
     "execution_count": 5,
     "metadata": {},
     "output_type": "execute_result"
    }
   ],
   "source": [
    "#Drop amenity variables with a p-value greater than 0.0017 from Price prediction dataset\n",
    "drop_cols = ['has_Wifi', 'has_Doorman', 'has_Indoor_fireplace', 'has_Familykid_friendly', 'has_Wheelchair_accessible',\n",
    "            'has_Hot_tub', 'has_Hangers', 'has_Buzzerwireless_intercom', 'has_Shampoo']\n",
    "\n",
    "abb_Price_predict.drop(columns=drop_cols, axis=1, inplace=True)\n",
    "\n",
    "abb_Price_predict.shape"
   ]
  },
  {
   "cell_type": "code",
   "execution_count": 6,
   "metadata": {},
   "outputs": [
    {
     "data": {
      "text/plain": [
       "(16011, 52)"
      ]
     },
     "execution_count": 6,
     "metadata": {},
     "output_type": "execute_result"
    }
   ],
   "source": [
    "#Drop amenity variables with a p-value greater than 0.0017 from Utilization_Rate prediction dataset\n",
    "drop_cols = ['has_Hangers', 'has_Smoking_allowed', 'has_Pool', 'has_Hot_tub', 'has_Air_conditioning', 'has_Elevator',\n",
    "            'has_Gym', 'has_Familykid_friendly', 'has_Free_parking_on_premises', 'has_Smoke_detector', 'has_Wheelchair_accessible',\n",
    "            'has_Pets_allowed', 'has_Indoor_fireplace', 'has_Paid_parking_off_premises', 'has_Breakfast', 'has_Doorman',\n",
    "            'has_Essentials', 'has_Free_street_parking', 'has_Pets_live_on_this_property', 'has_Shampoo', 'has_Buzzerwireless_intercom']\n",
    "\n",
    "abb_Util_predict.drop(columns=drop_cols, axis=1, inplace=True)\n",
    "\n",
    "abb_Util_predict.shape"
   ]
  },
  {
   "cell_type": "markdown",
   "metadata": {},
   "source": [
    "### Drop Uneeded \"NA\" Flag Variables\n",
    "\n",
    "Now I will do the same for the \\_notNA variables, which are flag variables I created during data wrangling to tell me if a value was missing for a given variable. I did a series of t-tests on these against Price and Utilization to see which had a statistically significant relationship. \n",
    "\n",
    "This time the number of comparisons was 10, so the p-value threshold they need to pass for significance is (0.05/10=) 0.005.\n",
    "\n",
    "Note: Technically there were 15 \\_notNA variables tested in the Statistical Inference script, but this was a mistake. 5 of those had no NA values (likely the records with missing values were dropped over time for those) so they had no actual data to test. Those variables will be dropped below as well. "
   ]
  },
  {
   "cell_type": "code",
   "execution_count": 7,
   "metadata": {},
   "outputs": [
    {
     "data": {
      "text/plain": [
       "(16011, 52)"
      ]
     },
     "execution_count": 7,
     "metadata": {},
     "output_type": "execute_result"
    }
   ],
   "source": [
    "#Drop _notNA variables with a p-value greater than 0.0017 from Price prediction dataset\n",
    "drop_cols = ['bathrooms_notNA', 'beds_notNA', 'bedrooms_notNA', 'neighbourhood_cleansed_notNA', 'host_is_superhost_notNA',\n",
    "            'monthly_price_notNA', 'weekly_price_notNA', 'neighbourhood_notNA', 'host_response_rate_notNA', 'host_response_time_notNA',\n",
    "            'host_neighbourhood_notNA', 'square_feet_notNA']\n",
    "\n",
    "abb_Price_predict.drop(columns=drop_cols, axis=1, inplace=True)\n",
    "\n",
    "abb_Price_predict.shape"
   ]
  },
  {
   "cell_type": "code",
   "execution_count": 8,
   "metadata": {},
   "outputs": [
    {
     "data": {
      "text/plain": [
       "(16011, 43)"
      ]
     },
     "execution_count": 8,
     "metadata": {},
     "output_type": "execute_result"
    }
   ],
   "source": [
    "#Drop _notNA variables with a p-value greater than 0.0017 from Utilization Rate prediction dataset\n",
    "drop_cols = ['bathrooms_notNA', 'beds_notNA', 'bedrooms_notNA', 'neighbourhood_cleansed_notNA', 'host_is_superhost_notNA',\n",
    "            'square_feet_notNA', 'weekly_price_notNA', 'host_neighbourhood_notNA', 'monthly_price_notNA']\n",
    "\n",
    "abb_Util_predict.drop(columns=drop_cols, axis=1, inplace=True)\n",
    "\n",
    "abb_Util_predict.shape"
   ]
  },
  {
   "cell_type": "markdown",
   "metadata": {},
   "source": [
    "### Drop Yelp Business Metrics w/out Statistical Significance, Create Flag Variables for Having a Business w/in .1 and .5 Miles\n",
    "\n",
    "Next I will drop the Yelp Business metrics that did not show a statistically significant correlation with Price/Utilization (or if the correlation was extremely low). \n",
    "\n",
    "As a reminder, the Yelp Business metrics are Number of Businesses, Total Reviews, and Avg. Star Rating. These were calculated for all businesses within .1 and .5 miles of each AirBnB listing, for 6 variables total. \n",
    "\n",
    "All three of the metrics for busineses within .1 mile had a very low correlation with both Price and Utilization. I will drop all three of the .1 mile metrics. However when doing a t-test comparing the Price of listings with at least one business within .1 mile and those that did not, there was a large and statistically significant price difference (same for those with/without businesses within .5 mile). So before dropping the .1 mile metrics I will create a flag variable that is True if the AirBnB listing has a business within .1 (and .5) miles."
   ]
  },
  {
   "cell_type": "code",
   "execution_count": 9,
   "metadata": {},
   "outputs": [],
   "source": [
    "#Create flag variable indicating if any business was within .1, .5 miles of an AirBnB listing\n",
    "abb_Price_predict['Bus_in_pt_1'] = pd.notna(abb_Price_predict['yelp_bus_count_1'])\n",
    "abb_Price_predict['Bus_in_pt_5'] = pd.notna(abb_Price_predict['yelp_bus_count_5'])\n",
    "\n",
    "abb_Util_predict['Bus_in_pt_1'] = pd.notna(abb_Util_predict['yelp_bus_count_1'])\n",
    "abb_Util_predict['Bus_in_pt_5'] = pd.notna(abb_Util_predict['yelp_bus_count_5'])"
   ]
  },
  {
   "cell_type": "code",
   "execution_count": 10,
   "metadata": {},
   "outputs": [
    {
     "name": "stdout",
     "output_type": "stream",
     "text": [
      "(16011, 51)\n",
      "(16011, 42)\n"
     ]
    }
   ],
   "source": [
    "#Drop .1 mile Yelp Business variables\n",
    "drop_cols = ['yelp_bus_count_1', 'yelp_bus_total_reviews_1', 'yelp_bus_avg_rating_1']\n",
    "\n",
    "abb_Price_predict.drop(columns=drop_cols, axis=1, inplace=True)\n",
    "abb_Util_predict.drop(columns=drop_cols, axis=1, inplace=True)\n",
    "\n",
    "print(abb_Price_predict.shape)\n",
    "print(abb_Util_predict.shape)"
   ]
  },
  {
   "cell_type": "markdown",
   "metadata": {},
   "source": [
    "The .5 mile Yelp Business metrics, specifically Number of Businesses and Total Reviews, did show both a practical correlation coefficient and statistical significance when compared to Price, so those variables will be kept in the Price prediction dataset. The Avg. Rating was not practically significant against Price, so it will be dropped.\n",
    "\n",
    "All three .5 mile Yelp Business metrics were not practically significant against Utilization Rate and will be dropped. "
   ]
  },
  {
   "cell_type": "code",
   "execution_count": 11,
   "metadata": {},
   "outputs": [
    {
     "name": "stdout",
     "output_type": "stream",
     "text": [
      "(16011, 50)\n"
     ]
    }
   ],
   "source": [
    "#Drop .5 mile Yelp Business variables from price prediction dataset\n",
    "drop_cols = ['yelp_bus_avg_rating_5']\n",
    "\n",
    "abb_Price_predict.drop(columns=drop_cols, axis=1, inplace=True)\n",
    "\n",
    "print(abb_Price_predict.shape)"
   ]
  },
  {
   "cell_type": "code",
   "execution_count": 12,
   "metadata": {},
   "outputs": [
    {
     "name": "stdout",
     "output_type": "stream",
     "text": [
      "(16011, 39)\n"
     ]
    }
   ],
   "source": [
    "#Drop .5 mile Yelp Business variables from utilization prediction dataset\n",
    "drop_cols = ['yelp_bus_count_5', 'yelp_bus_total_reviews_5', 'yelp_bus_avg_rating_5']\n",
    "\n",
    "abb_Util_predict.drop(columns=drop_cols, axis=1, inplace=True)\n",
    "\n",
    "print(abb_Util_predict.shape)"
   ]
  },
  {
   "cell_type": "markdown",
   "metadata": {},
   "source": [
    "As a final step I will replace NaN values in the Yelp metrics with 0 to ensure the modeling algorithms do not drop those records."
   ]
  },
  {
   "cell_type": "code",
   "execution_count": 13,
   "metadata": {},
   "outputs": [],
   "source": [
    "abb_Price_predict[['yelp_bus_count_5', 'yelp_bus_total_reviews_5']] = abb_Price_predict[['yelp_bus_count_5', 'yelp_bus_total_reviews_5']].fillna(0.0)"
   ]
  },
  {
   "cell_type": "markdown",
   "metadata": {},
   "source": [
    "## Predicting Price\n",
    "\n",
    "### Produce Baseline Price Prediction Model\n",
    "First I will create a simple baseline linear regression model predicting raw price (not log price) with all of the predictor variables. This will serve as my baseline model to compare future models against. Before doing that I need to convert my categorical predictor variables into binary flag variables, then split my data into train test splits. I will also scale my numeric variables, but I will handle that within the modeling pipeline. Scaling is not necessarily a requirement for standard linear regression, but I know I will use Ridge, Lasso, Random Forest, and possibly other model types later on that will require scaled numeric variables. "
   ]
  },
  {
   "cell_type": "code",
   "execution_count": 14,
   "metadata": {},
   "outputs": [
    {
     "name": "stdout",
     "output_type": "stream",
     "text": [
      "<class 'pandas.core.frame.DataFrame'>\n",
      "RangeIndex: 16011 entries, 0 to 16010\n",
      "Columns: 115 entries, id to property_type_Townhouse\n",
      "dtypes: bool(26), float64(15), int64(1), uint8(73)\n",
      "memory usage: 2.5 MB\n"
     ]
    }
   ],
   "source": [
    "#Perform get_dummies to one-hot encode categorical variables\n",
    "cat_cols = abb_Price_predict[['host_response_time', 'neighborhood', 'host_is_superhost', 'room_type', 'bed_type',\n",
    "                            'instant_bookable', 'cancellation_policy', 'property_type']].columns\n",
    "\n",
    "abb_Price_predict_expanded = abb_Price_predict.copy()\n",
    "abb_Price_predict_expanded = pd.get_dummies(abb_Price_predict, sparse=True, columns=cat_cols)\n",
    "\n",
    "#Confirm only numeric variables remain\n",
    "abb_Price_predict_expanded.info()"
   ]
  },
  {
   "cell_type": "code",
   "execution_count": 17,
   "metadata": {},
   "outputs": [],
   "source": [
    "#Create X and y\n",
    "X_vars = abb_Price_predict_expanded.columns.difference(['id', 'price', 'Utilization_Rate', 'log_price'])\n",
    "X = abb_Price_predict_expanded[X_vars]\n",
    "y = abb_Price_predict_expanded[['price', 'log_price', 'Utilization_Rate']]\n",
    "#y_raw = abb_Price_predict_expanded['price']\n",
    "#y_log = abb_Price_predict_expanded['log_price']"
   ]
  },
  {
   "cell_type": "code",
   "execution_count": 18,
   "metadata": {},
   "outputs": [],
   "source": [
    "#Create train-test split\n",
    "X_train, X_test, y_train,  y_test = train_test_split(X, y, \n",
    "                                                     test_size = 0.3, \n",
    "                                                     random_state=17)"
   ]
  },
  {
   "cell_type": "markdown",
   "metadata": {},
   "source": [
    "Next I will create a pipeline that handles scaling and modeling in one step. I will use MinMax instead of Standard scaler because I know most of my numeric variables do not follow a normal distribution, and are in fact skewed right (long tail to the right). "
   ]
  },
  {
   "cell_type": "code",
   "execution_count": 27,
   "metadata": {},
   "outputs": [],
   "source": [
    "#Initialize MinMaxScaler\n",
    "scaler = MinMaxScaler()\n",
    "#Initialize Linear Regression\n",
    "regression = LinearRegression()\n",
    "#Create pipeline\n",
    "pipeline_ols = Pipeline([(\"Scaler\", scaler), (\"Regression\", regression)])"
   ]
  },
  {
   "cell_type": "code",
   "execution_count": 125,
   "metadata": {},
   "outputs": [
    {
     "data": {
      "text/plain": [
       "0.49288197012547746"
      ]
     },
     "execution_count": 125,
     "metadata": {},
     "output_type": "execute_result"
    }
   ],
   "source": [
    "X_scaled = scaler.fit_transform(X_train)\n",
    "#y_scaled = scaler.fit_transform(y_train['price'])\n",
    "test_ols = LinearRegression()\n",
    "test_model = test_ols.fit(X=X_scaled, y=y_train['price'])\n",
    "test_model.score(X_scaled, y_train['price'])"
   ]
  },
  {
   "cell_type": "code",
   "execution_count": 126,
   "metadata": {},
   "outputs": [
    {
     "data": {
      "text/plain": [
       "array([ 3.09293066e+00,  3.83913953e+00,  4.29891651e+01,  2.90890854e+01,\n",
       "       -1.56215391e+12, -1.56215391e+12, -1.56215391e+12, -1.56215391e+12,\n",
       "       -1.56215391e+12,  6.24539795e+01,  1.38599854e+01, -7.91001229e+12,\n",
       "       -7.91001229e+12, -7.91001229e+12, -7.91001229e+12, -7.91001229e+12,\n",
       "        6.86717682e+01, -2.02469482e+01,  2.58341980e+00, -2.79084778e+00,\n",
       "        1.09124756e+00,  7.00865173e+00,  1.29614258e+00,  7.88772583e-01,\n",
       "        2.90209961e+00, -6.09979248e+00, -8.46299744e+00, -4.10567474e+00,\n",
       "       -2.48474121e+00, -7.96105957e+00, -3.89221191e+00, -8.06152344e+00,\n",
       "       -8.10986757e+00, -7.72168732e+00,  3.19892311e+00,  8.86791992e+00,\n",
       "        1.80679321e+00,  4.13529587e+00,  9.24517822e+00, -3.44996643e+00,\n",
       "       -6.60591034e+11, -6.60591034e+11, -6.37847900e+00,  5.21728516e+00,\n",
       "        8.91238350e+11,  8.91238350e+11,  8.91238350e+11,  8.91238350e+11,\n",
       "        7.21647515e+11,  7.21647515e+11, -3.32714233e+01,  6.95252042e+11,\n",
       "        6.95252042e+11,  6.95252042e+11,  6.95252042e+11,  6.95252042e+11,\n",
       "        6.95252042e+11,  6.95252042e+11,  6.95252042e+11,  6.95252042e+11,\n",
       "        6.95252042e+11,  6.95252042e+11,  6.95252042e+11,  6.95252042e+11,\n",
       "        6.95252042e+11,  6.95252042e+11,  6.95252042e+11,  6.95252042e+11,\n",
       "        6.95252042e+11,  6.95252042e+11,  6.95252042e+11,  6.95252042e+11,\n",
       "        6.95252042e+11,  6.95252042e+11,  6.95252042e+11,  6.95252042e+11,\n",
       "        6.95252042e+11,  6.95252042e+11,  6.95252042e+11,  6.95252042e+11,\n",
       "        6.95252042e+11,  6.95252042e+11,  6.95252042e+11,  6.95252042e+11,\n",
       "        6.95252042e+11,  6.95252042e+11,  6.95252042e+11,  6.95252042e+11,\n",
       "        6.95252042e+11,  6.95252042e+11,  6.95252042e+11,  6.95252042e+11,\n",
       "        2.44536281e+12,  2.44536281e+12,  2.44536281e+12,  2.44536281e+12,\n",
       "        2.44536281e+12,  2.44536281e+12,  2.44536281e+12,  2.44536281e+12,\n",
       "        2.44536281e+12,  2.44536281e+12,  2.44536281e+12, -2.32639160e+01,\n",
       "       -1.80694685e+13, -1.80694685e+13, -1.80694685e+13,  4.68300323e+01,\n",
       "       -5.16015625e+00, -6.01299438e+01,  5.60190430e+01])"
      ]
     },
     "execution_count": 126,
     "metadata": {},
     "output_type": "execute_result"
    }
   ],
   "source": [
    "test_model.coef_"
   ]
  },
  {
   "cell_type": "code",
   "execution_count": 35,
   "metadata": {},
   "outputs": [
    {
     "data": {
      "text/plain": [
       "Pipeline(memory=None,\n",
       "     steps=[('Scaler', MinMaxScaler(copy=True, feature_range=(0, 1))), ('Regression', LinearRegression(copy_X=True, fit_intercept=True, n_jobs=1, normalize=False))])"
      ]
     },
     "execution_count": 35,
     "metadata": {},
     "output_type": "execute_result"
    }
   ],
   "source": [
    "pipeline_ols.fit(X_train, y_train['price'])"
   ]
  },
  {
   "cell_type": "code",
   "execution_count": 47,
   "metadata": {},
   "outputs": [],
   "source": [
    "#Calculate R^2 on train and test sets\n",
    "ols_r2_train = pipeline_ols.score(X_train, y_train['price'])\n",
    "ols_r2_test = pipeline_ols.score(X_test, y_test['price'])"
   ]
  },
  {
   "cell_type": "code",
   "execution_count": 46,
   "metadata": {},
   "outputs": [],
   "source": [
    "#Calculate Mean Squared Error on test and train sets\n",
    "x_train_pred = pipeline_ols.predict(X_train)\n",
    "x_test_pred = pipeline_ols.predict(X_test)\n",
    "\n",
    "mse_train = mean_squared_error(y_train['price'], x_train_pred)\n",
    "mse_test = mean_squared_error(y_test['price'], x_test_pred)"
   ]
  },
  {
   "cell_type": "code",
   "execution_count": 49,
   "metadata": {},
   "outputs": [],
   "source": [
    "scores_df = pd.DataFrame([{'Model':'OLS_RawPrice', 'R2_train':ols_r2_train, 'R2_test':ols_r2_test, \n",
    "                          'MSE_train':mse_train, 'MSE_test':mse_test}])"
   ]
  },
  {
   "cell_type": "code",
   "execution_count": 51,
   "metadata": {},
   "outputs": [
    {
     "data": {
      "text/html": [
       "<div>\n",
       "<style scoped>\n",
       "    .dataframe tbody tr th:only-of-type {\n",
       "        vertical-align: middle;\n",
       "    }\n",
       "\n",
       "    .dataframe tbody tr th {\n",
       "        vertical-align: top;\n",
       "    }\n",
       "\n",
       "    .dataframe thead th {\n",
       "        text-align: right;\n",
       "    }\n",
       "</style>\n",
       "<table border=\"1\" class=\"dataframe\">\n",
       "  <thead>\n",
       "    <tr style=\"text-align: right;\">\n",
       "      <th></th>\n",
       "      <th>Model</th>\n",
       "      <th>R2_train</th>\n",
       "      <th>R2_test</th>\n",
       "      <th>MSE_train</th>\n",
       "      <th>MSE_test</th>\n",
       "    </tr>\n",
       "  </thead>\n",
       "  <tbody>\n",
       "    <tr>\n",
       "      <th>0</th>\n",
       "      <td>OLS_RawPrice</td>\n",
       "      <td>0.492882</td>\n",
       "      <td>0.500269</td>\n",
       "      <td>4468.043447</td>\n",
       "      <td>4623.699172</td>\n",
       "    </tr>\n",
       "  </tbody>\n",
       "</table>\n",
       "</div>"
      ],
      "text/plain": [
       "          Model  R2_train   R2_test    MSE_train     MSE_test\n",
       "0  OLS_RawPrice  0.492882  0.500269  4468.043447  4623.699172"
      ]
     },
     "execution_count": 51,
     "metadata": {},
     "output_type": "execute_result"
    }
   ],
   "source": [
    "scores_df[['Model', 'R2_train', 'R2_test', 'MSE_train', 'MSE_test']]"
   ]
  },
  {
   "cell_type": "code",
   "execution_count": 110,
   "metadata": {},
   "outputs": [
    {
     "data": {
      "text/plain": [
       "Feature         111\n",
       "Coefficients    111\n",
       "dtype: int64"
      ]
     },
     "execution_count": 110,
     "metadata": {},
     "output_type": "execute_result"
    }
   ],
   "source": [
    "coefficients = pd.DataFrame({\"Feature\":X_train.columns, \n",
    "                             \"Coefficients\":np.transpose(pipeline_ols.named_steps['Regression'].coef_)})\n",
    "\n",
    "coefficients[coefficients['Coefficients']!=0].count()"
   ]
  },
  {
   "cell_type": "code",
   "execution_count": 111,
   "metadata": {},
   "outputs": [
    {
     "data": {
      "text/html": [
       "<div>\n",
       "<style scoped>\n",
       "    .dataframe tbody tr th:only-of-type {\n",
       "        vertical-align: middle;\n",
       "    }\n",
       "\n",
       "    .dataframe tbody tr th {\n",
       "        vertical-align: top;\n",
       "    }\n",
       "\n",
       "    .dataframe thead th {\n",
       "        text-align: right;\n",
       "    }\n",
       "</style>\n",
       "<table border=\"1\" class=\"dataframe\">\n",
       "  <thead>\n",
       "    <tr style=\"text-align: right;\">\n",
       "      <th></th>\n",
       "      <th>Feature</th>\n",
       "      <th>Coefficients</th>\n",
       "    </tr>\n",
       "  </thead>\n",
       "  <tbody>\n",
       "    <tr>\n",
       "      <th>0</th>\n",
       "      <td>Bus_in_pt_1</td>\n",
       "      <td>3.092931e+00</td>\n",
       "    </tr>\n",
       "    <tr>\n",
       "      <th>1</th>\n",
       "      <td>Bus_in_pt_5</td>\n",
       "      <td>3.839140e+00</td>\n",
       "    </tr>\n",
       "    <tr>\n",
       "      <th>2</th>\n",
       "      <td>accommodates</td>\n",
       "      <td>4.298917e+01</td>\n",
       "    </tr>\n",
       "    <tr>\n",
       "      <th>3</th>\n",
       "      <td>bathrooms</td>\n",
       "      <td>2.908909e+01</td>\n",
       "    </tr>\n",
       "    <tr>\n",
       "      <th>4</th>\n",
       "      <td>bed_type_Airbed</td>\n",
       "      <td>-1.562154e+12</td>\n",
       "    </tr>\n",
       "    <tr>\n",
       "      <th>5</th>\n",
       "      <td>bed_type_Couch</td>\n",
       "      <td>-1.562154e+12</td>\n",
       "    </tr>\n",
       "    <tr>\n",
       "      <th>6</th>\n",
       "      <td>bed_type_Futon</td>\n",
       "      <td>-1.562154e+12</td>\n",
       "    </tr>\n",
       "    <tr>\n",
       "      <th>7</th>\n",
       "      <td>bed_type_Pull-out Sofa</td>\n",
       "      <td>-1.562154e+12</td>\n",
       "    </tr>\n",
       "    <tr>\n",
       "      <th>8</th>\n",
       "      <td>bed_type_Real Bed</td>\n",
       "      <td>-1.562154e+12</td>\n",
       "    </tr>\n",
       "    <tr>\n",
       "      <th>9</th>\n",
       "      <td>bedrooms</td>\n",
       "      <td>6.245398e+01</td>\n",
       "    </tr>\n",
       "    <tr>\n",
       "      <th>10</th>\n",
       "      <td>beds</td>\n",
       "      <td>1.385999e+01</td>\n",
       "    </tr>\n",
       "    <tr>\n",
       "      <th>11</th>\n",
       "      <td>cancellation_policy_flexible</td>\n",
       "      <td>-7.910012e+12</td>\n",
       "    </tr>\n",
       "    <tr>\n",
       "      <th>12</th>\n",
       "      <td>cancellation_policy_moderate</td>\n",
       "      <td>-7.910012e+12</td>\n",
       "    </tr>\n",
       "    <tr>\n",
       "      <th>13</th>\n",
       "      <td>cancellation_policy_strict_14_with_grace_period</td>\n",
       "      <td>-7.910012e+12</td>\n",
       "    </tr>\n",
       "    <tr>\n",
       "      <th>14</th>\n",
       "      <td>cancellation_policy_super_strict_30</td>\n",
       "      <td>-7.910012e+12</td>\n",
       "    </tr>\n",
       "    <tr>\n",
       "      <th>15</th>\n",
       "      <td>cancellation_policy_super_strict_60</td>\n",
       "      <td>-7.910012e+12</td>\n",
       "    </tr>\n",
       "    <tr>\n",
       "      <th>16</th>\n",
       "      <td>cleaning_fee</td>\n",
       "      <td>6.867177e+01</td>\n",
       "    </tr>\n",
       "    <tr>\n",
       "      <th>17</th>\n",
       "      <td>cleaning_fee_notNA</td>\n",
       "      <td>-2.024695e+01</td>\n",
       "    </tr>\n",
       "    <tr>\n",
       "      <th>18</th>\n",
       "      <td>extra_people</td>\n",
       "      <td>2.583420e+00</td>\n",
       "    </tr>\n",
       "    <tr>\n",
       "      <th>19</th>\n",
       "      <td>guests_included</td>\n",
       "      <td>-2.790848e+00</td>\n",
       "    </tr>\n",
       "    <tr>\n",
       "      <th>20</th>\n",
       "      <td>has_Air_conditioning</td>\n",
       "      <td>1.091248e+00</td>\n",
       "    </tr>\n",
       "    <tr>\n",
       "      <th>21</th>\n",
       "      <td>has_Breakfast</td>\n",
       "      <td>7.008652e+00</td>\n",
       "    </tr>\n",
       "    <tr>\n",
       "      <th>22</th>\n",
       "      <td>has_Cable_TV</td>\n",
       "      <td>1.296143e+00</td>\n",
       "    </tr>\n",
       "    <tr>\n",
       "      <th>23</th>\n",
       "      <td>has_Dryer</td>\n",
       "      <td>7.887726e-01</td>\n",
       "    </tr>\n",
       "    <tr>\n",
       "      <th>24</th>\n",
       "      <td>has_Elevator</td>\n",
       "      <td>2.902100e+00</td>\n",
       "    </tr>\n",
       "    <tr>\n",
       "      <th>25</th>\n",
       "      <td>has_Essentials</td>\n",
       "      <td>-6.099792e+00</td>\n",
       "    </tr>\n",
       "    <tr>\n",
       "      <th>26</th>\n",
       "      <td>has_Free_parking_on_premises</td>\n",
       "      <td>-8.462997e+00</td>\n",
       "    </tr>\n",
       "    <tr>\n",
       "      <th>27</th>\n",
       "      <td>has_Free_street_parking</td>\n",
       "      <td>-4.105675e+00</td>\n",
       "    </tr>\n",
       "    <tr>\n",
       "      <th>28</th>\n",
       "      <td>has_Gym</td>\n",
       "      <td>-2.484741e+00</td>\n",
       "    </tr>\n",
       "    <tr>\n",
       "      <th>29</th>\n",
       "      <td>has_Heating</td>\n",
       "      <td>-7.961060e+00</td>\n",
       "    </tr>\n",
       "    <tr>\n",
       "      <th>30</th>\n",
       "      <td>has_Internet</td>\n",
       "      <td>-3.892212e+00</td>\n",
       "    </tr>\n",
       "    <tr>\n",
       "      <th>31</th>\n",
       "      <td>has_Kitchen</td>\n",
       "      <td>-8.061523e+00</td>\n",
       "    </tr>\n",
       "    <tr>\n",
       "      <th>32</th>\n",
       "      <td>has_Paid_parking_off_premises</td>\n",
       "      <td>-8.109868e+00</td>\n",
       "    </tr>\n",
       "    <tr>\n",
       "      <th>33</th>\n",
       "      <td>has_Pets_allowed</td>\n",
       "      <td>-7.721687e+00</td>\n",
       "    </tr>\n",
       "    <tr>\n",
       "      <th>34</th>\n",
       "      <td>has_Pets_live_on_this_property</td>\n",
       "      <td>3.198923e+00</td>\n",
       "    </tr>\n",
       "    <tr>\n",
       "      <th>35</th>\n",
       "      <td>has_Pool</td>\n",
       "      <td>8.867920e+00</td>\n",
       "    </tr>\n",
       "    <tr>\n",
       "      <th>36</th>\n",
       "      <td>has_Smoke_detector</td>\n",
       "      <td>1.806793e+00</td>\n",
       "    </tr>\n",
       "    <tr>\n",
       "      <th>37</th>\n",
       "      <td>has_Smoking_allowed</td>\n",
       "      <td>4.135296e+00</td>\n",
       "    </tr>\n",
       "    <tr>\n",
       "      <th>38</th>\n",
       "      <td>has_TV</td>\n",
       "      <td>9.245178e+00</td>\n",
       "    </tr>\n",
       "    <tr>\n",
       "      <th>39</th>\n",
       "      <td>has_Washer</td>\n",
       "      <td>-3.449966e+00</td>\n",
       "    </tr>\n",
       "    <tr>\n",
       "      <th>40</th>\n",
       "      <td>host_is_superhost_f</td>\n",
       "      <td>-6.605910e+11</td>\n",
       "    </tr>\n",
       "    <tr>\n",
       "      <th>41</th>\n",
       "      <td>host_is_superhost_t</td>\n",
       "      <td>-6.605910e+11</td>\n",
       "    </tr>\n",
       "    <tr>\n",
       "      <th>42</th>\n",
       "      <td>host_lives_near_listing</td>\n",
       "      <td>-6.378479e+00</td>\n",
       "    </tr>\n",
       "    <tr>\n",
       "      <th>43</th>\n",
       "      <td>host_response_rate</td>\n",
       "      <td>5.217285e+00</td>\n",
       "    </tr>\n",
       "    <tr>\n",
       "      <th>44</th>\n",
       "      <td>host_response_time_a few days or more</td>\n",
       "      <td>8.912383e+11</td>\n",
       "    </tr>\n",
       "    <tr>\n",
       "      <th>45</th>\n",
       "      <td>host_response_time_within a day</td>\n",
       "      <td>8.912383e+11</td>\n",
       "    </tr>\n",
       "    <tr>\n",
       "      <th>46</th>\n",
       "      <td>host_response_time_within a few hours</td>\n",
       "      <td>8.912383e+11</td>\n",
       "    </tr>\n",
       "    <tr>\n",
       "      <th>47</th>\n",
       "      <td>host_response_time_within an hour</td>\n",
       "      <td>8.912383e+11</td>\n",
       "    </tr>\n",
       "    <tr>\n",
       "      <th>48</th>\n",
       "      <td>instant_bookable_f</td>\n",
       "      <td>7.216475e+11</td>\n",
       "    </tr>\n",
       "    <tr>\n",
       "      <th>49</th>\n",
       "      <td>instant_bookable_t</td>\n",
       "      <td>7.216475e+11</td>\n",
       "    </tr>\n",
       "    <tr>\n",
       "      <th>50</th>\n",
       "      <td>minimum_nights</td>\n",
       "      <td>-3.327142e+01</td>\n",
       "    </tr>\n",
       "    <tr>\n",
       "      <th>51</th>\n",
       "      <td>neighborhood_Bayview Village</td>\n",
       "      <td>6.952520e+11</td>\n",
       "    </tr>\n",
       "    <tr>\n",
       "      <th>52</th>\n",
       "      <td>neighborhood_Cabbagetown</td>\n",
       "      <td>6.952520e+11</td>\n",
       "    </tr>\n",
       "    <tr>\n",
       "      <th>53</th>\n",
       "      <td>neighborhood_Casa Loma</td>\n",
       "      <td>6.952520e+11</td>\n",
       "    </tr>\n",
       "    <tr>\n",
       "      <th>54</th>\n",
       "      <td>neighborhood_Corktown</td>\n",
       "      <td>6.952520e+11</td>\n",
       "    </tr>\n",
       "    <tr>\n",
       "      <th>55</th>\n",
       "      <td>neighborhood_Davisville</td>\n",
       "      <td>6.952520e+11</td>\n",
       "    </tr>\n",
       "    <tr>\n",
       "      <th>56</th>\n",
       "      <td>neighborhood_Deer Park</td>\n",
       "      <td>6.952520e+11</td>\n",
       "    </tr>\n",
       "    <tr>\n",
       "      <th>57</th>\n",
       "      <td>neighborhood_Dovercourt Park</td>\n",
       "      <td>6.952520e+11</td>\n",
       "    </tr>\n",
       "    <tr>\n",
       "      <th>58</th>\n",
       "      <td>neighborhood_Downsview</td>\n",
       "      <td>6.952520e+11</td>\n",
       "    </tr>\n",
       "    <tr>\n",
       "      <th>59</th>\n",
       "      <td>neighborhood_Downtown Core</td>\n",
       "      <td>6.952520e+11</td>\n",
       "    </tr>\n",
       "    <tr>\n",
       "      <th>60</th>\n",
       "      <td>neighborhood_Dufferin Grove</td>\n",
       "      <td>6.952520e+11</td>\n",
       "    </tr>\n",
       "    <tr>\n",
       "      <th>61</th>\n",
       "      <td>neighborhood_East York</td>\n",
       "      <td>6.952520e+11</td>\n",
       "    </tr>\n",
       "    <tr>\n",
       "      <th>62</th>\n",
       "      <td>neighborhood_Entertainment District</td>\n",
       "      <td>6.952520e+11</td>\n",
       "    </tr>\n",
       "    <tr>\n",
       "      <th>63</th>\n",
       "      <td>neighborhood_Etobicoke</td>\n",
       "      <td>6.952520e+11</td>\n",
       "    </tr>\n",
       "    <tr>\n",
       "      <th>64</th>\n",
       "      <td>neighborhood_Greektown</td>\n",
       "      <td>6.952520e+11</td>\n",
       "    </tr>\n",
       "    <tr>\n",
       "      <th>65</th>\n",
       "      <td>neighborhood_High Park North</td>\n",
       "      <td>6.952520e+11</td>\n",
       "    </tr>\n",
       "    <tr>\n",
       "      <th>66</th>\n",
       "      <td>neighborhood_Hogg's Hollow</td>\n",
       "      <td>6.952520e+11</td>\n",
       "    </tr>\n",
       "    <tr>\n",
       "      <th>67</th>\n",
       "      <td>neighborhood_Kensington Market</td>\n",
       "      <td>6.952520e+11</td>\n",
       "    </tr>\n",
       "    <tr>\n",
       "      <th>68</th>\n",
       "      <td>neighborhood_Little Portugal</td>\n",
       "      <td>6.952520e+11</td>\n",
       "    </tr>\n",
       "    <tr>\n",
       "      <th>69</th>\n",
       "      <td>neighborhood_Mount Dennis</td>\n",
       "      <td>6.952520e+11</td>\n",
       "    </tr>\n",
       "    <tr>\n",
       "      <th>70</th>\n",
       "      <td>neighborhood_New Toronto</td>\n",
       "      <td>6.952520e+11</td>\n",
       "    </tr>\n",
       "    <tr>\n",
       "      <th>71</th>\n",
       "      <td>neighborhood_Niagara</td>\n",
       "      <td>6.952520e+11</td>\n",
       "    </tr>\n",
       "    <tr>\n",
       "      <th>72</th>\n",
       "      <td>neighborhood_Palmerston/Little Italy</td>\n",
       "      <td>6.952520e+11</td>\n",
       "    </tr>\n",
       "    <tr>\n",
       "      <th>73</th>\n",
       "      <td>neighborhood_Parkdale</td>\n",
       "      <td>6.952520e+11</td>\n",
       "    </tr>\n",
       "    <tr>\n",
       "      <th>74</th>\n",
       "      <td>neighborhood_Rexdale</td>\n",
       "      <td>6.952520e+11</td>\n",
       "    </tr>\n",
       "    <tr>\n",
       "      <th>75</th>\n",
       "      <td>neighborhood_Riverdale</td>\n",
       "      <td>6.952520e+11</td>\n",
       "    </tr>\n",
       "    <tr>\n",
       "      <th>76</th>\n",
       "      <td>neighborhood_Roncesvalles</td>\n",
       "      <td>6.952520e+11</td>\n",
       "    </tr>\n",
       "    <tr>\n",
       "      <th>77</th>\n",
       "      <td>neighborhood_Rosedale</td>\n",
       "      <td>6.952520e+11</td>\n",
       "    </tr>\n",
       "    <tr>\n",
       "      <th>78</th>\n",
       "      <td>neighborhood_Saint Lawrence</td>\n",
       "      <td>6.952520e+11</td>\n",
       "    </tr>\n",
       "    <tr>\n",
       "      <th>79</th>\n",
       "      <td>neighborhood_Scarborough</td>\n",
       "      <td>6.952520e+11</td>\n",
       "    </tr>\n",
       "    <tr>\n",
       "      <th>80</th>\n",
       "      <td>neighborhood_South Hill</td>\n",
       "      <td>6.952520e+11</td>\n",
       "    </tr>\n",
       "    <tr>\n",
       "      <th>81</th>\n",
       "      <td>neighborhood_Swansea</td>\n",
       "      <td>6.952520e+11</td>\n",
       "    </tr>\n",
       "    <tr>\n",
       "      <th>82</th>\n",
       "      <td>neighborhood_The Annex</td>\n",
       "      <td>6.952520e+11</td>\n",
       "    </tr>\n",
       "    <tr>\n",
       "      <th>83</th>\n",
       "      <td>neighborhood_The Beaches</td>\n",
       "      <td>6.952520e+11</td>\n",
       "    </tr>\n",
       "    <tr>\n",
       "      <th>84</th>\n",
       "      <td>neighborhood_The Danforth</td>\n",
       "      <td>6.952520e+11</td>\n",
       "    </tr>\n",
       "    <tr>\n",
       "      <th>85</th>\n",
       "      <td>neighborhood_The Junction</td>\n",
       "      <td>6.952520e+11</td>\n",
       "    </tr>\n",
       "    <tr>\n",
       "      <th>86</th>\n",
       "      <td>neighborhood_Trinity-Bellwoods</td>\n",
       "      <td>6.952520e+11</td>\n",
       "    </tr>\n",
       "    <tr>\n",
       "      <th>87</th>\n",
       "      <td>neighborhood_Wallace Emerson</td>\n",
       "      <td>6.952520e+11</td>\n",
       "    </tr>\n",
       "    <tr>\n",
       "      <th>88</th>\n",
       "      <td>neighborhood_Willowdale</td>\n",
       "      <td>6.952520e+11</td>\n",
       "    </tr>\n",
       "    <tr>\n",
       "      <th>89</th>\n",
       "      <td>neighborhood_Wychwood</td>\n",
       "      <td>6.952520e+11</td>\n",
       "    </tr>\n",
       "    <tr>\n",
       "      <th>90</th>\n",
       "      <td>neighborhood_Yonge Eglinton</td>\n",
       "      <td>6.952520e+11</td>\n",
       "    </tr>\n",
       "    <tr>\n",
       "      <th>91</th>\n",
       "      <td>neighborhood_Yorkville</td>\n",
       "      <td>6.952520e+11</td>\n",
       "    </tr>\n",
       "    <tr>\n",
       "      <th>92</th>\n",
       "      <td>property_type_Apartment</td>\n",
       "      <td>2.445363e+12</td>\n",
       "    </tr>\n",
       "    <tr>\n",
       "      <th>93</th>\n",
       "      <td>property_type_Bed and breakfast</td>\n",
       "      <td>2.445363e+12</td>\n",
       "    </tr>\n",
       "    <tr>\n",
       "      <th>94</th>\n",
       "      <td>property_type_Bungalow</td>\n",
       "      <td>2.445363e+12</td>\n",
       "    </tr>\n",
       "    <tr>\n",
       "      <th>95</th>\n",
       "      <td>property_type_Condominium</td>\n",
       "      <td>2.445363e+12</td>\n",
       "    </tr>\n",
       "    <tr>\n",
       "      <th>96</th>\n",
       "      <td>property_type_Guest suite</td>\n",
       "      <td>2.445363e+12</td>\n",
       "    </tr>\n",
       "    <tr>\n",
       "      <th>97</th>\n",
       "      <td>property_type_Guesthouse</td>\n",
       "      <td>2.445363e+12</td>\n",
       "    </tr>\n",
       "    <tr>\n",
       "      <th>98</th>\n",
       "      <td>property_type_House</td>\n",
       "      <td>2.445363e+12</td>\n",
       "    </tr>\n",
       "    <tr>\n",
       "      <th>99</th>\n",
       "      <td>property_type_Loft</td>\n",
       "      <td>2.445363e+12</td>\n",
       "    </tr>\n",
       "    <tr>\n",
       "      <th>100</th>\n",
       "      <td>property_type_Other</td>\n",
       "      <td>2.445363e+12</td>\n",
       "    </tr>\n",
       "    <tr>\n",
       "      <th>101</th>\n",
       "      <td>property_type_Serviced apartment</td>\n",
       "      <td>2.445363e+12</td>\n",
       "    </tr>\n",
       "    <tr>\n",
       "      <th>102</th>\n",
       "      <td>property_type_Townhouse</td>\n",
       "      <td>2.445363e+12</td>\n",
       "    </tr>\n",
       "    <tr>\n",
       "      <th>103</th>\n",
       "      <td>reviews_per_month_notNA</td>\n",
       "      <td>-2.326392e+01</td>\n",
       "    </tr>\n",
       "    <tr>\n",
       "      <th>104</th>\n",
       "      <td>room_type_Entire home/apt</td>\n",
       "      <td>-1.806947e+13</td>\n",
       "    </tr>\n",
       "    <tr>\n",
       "      <th>105</th>\n",
       "      <td>room_type_Private room</td>\n",
       "      <td>-1.806947e+13</td>\n",
       "    </tr>\n",
       "    <tr>\n",
       "      <th>106</th>\n",
       "      <td>room_type_Shared room</td>\n",
       "      <td>-1.806947e+13</td>\n",
       "    </tr>\n",
       "    <tr>\n",
       "      <th>107</th>\n",
       "      <td>security_deposit</td>\n",
       "      <td>4.683003e+01</td>\n",
       "    </tr>\n",
       "    <tr>\n",
       "      <th>108</th>\n",
       "      <td>security_deposit_notNA</td>\n",
       "      <td>-5.160156e+00</td>\n",
       "    </tr>\n",
       "    <tr>\n",
       "      <th>109</th>\n",
       "      <td>yelp_bus_count_5</td>\n",
       "      <td>-6.012994e+01</td>\n",
       "    </tr>\n",
       "    <tr>\n",
       "      <th>110</th>\n",
       "      <td>yelp_bus_total_reviews_5</td>\n",
       "      <td>5.601904e+01</td>\n",
       "    </tr>\n",
       "  </tbody>\n",
       "</table>\n",
       "</div>"
      ],
      "text/plain": [
       "                                             Feature  Coefficients\n",
       "0                                        Bus_in_pt_1  3.092931e+00\n",
       "1                                        Bus_in_pt_5  3.839140e+00\n",
       "2                                       accommodates  4.298917e+01\n",
       "3                                          bathrooms  2.908909e+01\n",
       "4                                    bed_type_Airbed -1.562154e+12\n",
       "5                                     bed_type_Couch -1.562154e+12\n",
       "6                                     bed_type_Futon -1.562154e+12\n",
       "7                             bed_type_Pull-out Sofa -1.562154e+12\n",
       "8                                  bed_type_Real Bed -1.562154e+12\n",
       "9                                           bedrooms  6.245398e+01\n",
       "10                                              beds  1.385999e+01\n",
       "11                      cancellation_policy_flexible -7.910012e+12\n",
       "12                      cancellation_policy_moderate -7.910012e+12\n",
       "13   cancellation_policy_strict_14_with_grace_period -7.910012e+12\n",
       "14               cancellation_policy_super_strict_30 -7.910012e+12\n",
       "15               cancellation_policy_super_strict_60 -7.910012e+12\n",
       "16                                      cleaning_fee  6.867177e+01\n",
       "17                                cleaning_fee_notNA -2.024695e+01\n",
       "18                                      extra_people  2.583420e+00\n",
       "19                                   guests_included -2.790848e+00\n",
       "20                              has_Air_conditioning  1.091248e+00\n",
       "21                                     has_Breakfast  7.008652e+00\n",
       "22                                      has_Cable_TV  1.296143e+00\n",
       "23                                         has_Dryer  7.887726e-01\n",
       "24                                      has_Elevator  2.902100e+00\n",
       "25                                    has_Essentials -6.099792e+00\n",
       "26                      has_Free_parking_on_premises -8.462997e+00\n",
       "27                           has_Free_street_parking -4.105675e+00\n",
       "28                                           has_Gym -2.484741e+00\n",
       "29                                       has_Heating -7.961060e+00\n",
       "30                                      has_Internet -3.892212e+00\n",
       "31                                       has_Kitchen -8.061523e+00\n",
       "32                     has_Paid_parking_off_premises -8.109868e+00\n",
       "33                                  has_Pets_allowed -7.721687e+00\n",
       "34                    has_Pets_live_on_this_property  3.198923e+00\n",
       "35                                          has_Pool  8.867920e+00\n",
       "36                                has_Smoke_detector  1.806793e+00\n",
       "37                               has_Smoking_allowed  4.135296e+00\n",
       "38                                            has_TV  9.245178e+00\n",
       "39                                        has_Washer -3.449966e+00\n",
       "40                               host_is_superhost_f -6.605910e+11\n",
       "41                               host_is_superhost_t -6.605910e+11\n",
       "42                           host_lives_near_listing -6.378479e+00\n",
       "43                                host_response_rate  5.217285e+00\n",
       "44             host_response_time_a few days or more  8.912383e+11\n",
       "45                   host_response_time_within a day  8.912383e+11\n",
       "46             host_response_time_within a few hours  8.912383e+11\n",
       "47                 host_response_time_within an hour  8.912383e+11\n",
       "48                                instant_bookable_f  7.216475e+11\n",
       "49                                instant_bookable_t  7.216475e+11\n",
       "50                                    minimum_nights -3.327142e+01\n",
       "51                      neighborhood_Bayview Village  6.952520e+11\n",
       "52                          neighborhood_Cabbagetown  6.952520e+11\n",
       "53                            neighborhood_Casa Loma  6.952520e+11\n",
       "54                             neighborhood_Corktown  6.952520e+11\n",
       "55                           neighborhood_Davisville  6.952520e+11\n",
       "56                            neighborhood_Deer Park  6.952520e+11\n",
       "57                      neighborhood_Dovercourt Park  6.952520e+11\n",
       "58                            neighborhood_Downsview  6.952520e+11\n",
       "59                        neighborhood_Downtown Core  6.952520e+11\n",
       "60                       neighborhood_Dufferin Grove  6.952520e+11\n",
       "61                            neighborhood_East York  6.952520e+11\n",
       "62               neighborhood_Entertainment District  6.952520e+11\n",
       "63                            neighborhood_Etobicoke  6.952520e+11\n",
       "64                            neighborhood_Greektown  6.952520e+11\n",
       "65                      neighborhood_High Park North  6.952520e+11\n",
       "66                        neighborhood_Hogg's Hollow  6.952520e+11\n",
       "67                    neighborhood_Kensington Market  6.952520e+11\n",
       "68                      neighborhood_Little Portugal  6.952520e+11\n",
       "69                         neighborhood_Mount Dennis  6.952520e+11\n",
       "70                          neighborhood_New Toronto  6.952520e+11\n",
       "71                              neighborhood_Niagara  6.952520e+11\n",
       "72              neighborhood_Palmerston/Little Italy  6.952520e+11\n",
       "73                             neighborhood_Parkdale  6.952520e+11\n",
       "74                              neighborhood_Rexdale  6.952520e+11\n",
       "75                            neighborhood_Riverdale  6.952520e+11\n",
       "76                         neighborhood_Roncesvalles  6.952520e+11\n",
       "77                             neighborhood_Rosedale  6.952520e+11\n",
       "78                       neighborhood_Saint Lawrence  6.952520e+11\n",
       "79                          neighborhood_Scarborough  6.952520e+11\n",
       "80                           neighborhood_South Hill  6.952520e+11\n",
       "81                              neighborhood_Swansea  6.952520e+11\n",
       "82                            neighborhood_The Annex  6.952520e+11\n",
       "83                          neighborhood_The Beaches  6.952520e+11\n",
       "84                         neighborhood_The Danforth  6.952520e+11\n",
       "85                         neighborhood_The Junction  6.952520e+11\n",
       "86                    neighborhood_Trinity-Bellwoods  6.952520e+11\n",
       "87                      neighborhood_Wallace Emerson  6.952520e+11\n",
       "88                           neighborhood_Willowdale  6.952520e+11\n",
       "89                             neighborhood_Wychwood  6.952520e+11\n",
       "90                       neighborhood_Yonge Eglinton  6.952520e+11\n",
       "91                            neighborhood_Yorkville  6.952520e+11\n",
       "92                           property_type_Apartment  2.445363e+12\n",
       "93                   property_type_Bed and breakfast  2.445363e+12\n",
       "94                            property_type_Bungalow  2.445363e+12\n",
       "95                         property_type_Condominium  2.445363e+12\n",
       "96                         property_type_Guest suite  2.445363e+12\n",
       "97                          property_type_Guesthouse  2.445363e+12\n",
       "98                               property_type_House  2.445363e+12\n",
       "99                                property_type_Loft  2.445363e+12\n",
       "100                              property_type_Other  2.445363e+12\n",
       "101                 property_type_Serviced apartment  2.445363e+12\n",
       "102                          property_type_Townhouse  2.445363e+12\n",
       "103                          reviews_per_month_notNA -2.326392e+01\n",
       "104                        room_type_Entire home/apt -1.806947e+13\n",
       "105                           room_type_Private room -1.806947e+13\n",
       "106                            room_type_Shared room -1.806947e+13\n",
       "107                                 security_deposit  4.683003e+01\n",
       "108                           security_deposit_notNA -5.160156e+00\n",
       "109                                 yelp_bus_count_5 -6.012994e+01\n",
       "110                         yelp_bus_total_reviews_5  5.601904e+01"
      ]
     },
     "execution_count": 111,
     "metadata": {},
     "output_type": "execute_result"
    }
   ],
   "source": [
    "coefficients"
   ]
  },
  {
   "cell_type": "markdown",
   "metadata": {},
   "source": [
    "My model has many input variables, 111 with a coefficient not equal to 0 (which is all of the variables). Feature selection will need to be performed to fine-tune this model. \n",
    "\n",
    "Interestingly the R2 value is decent and actually improves from train to test (0.49 to 0.5). Mean Squared Error slightly increases from train to test. Higher is better for R2, lower is better for MSE. \n",
    "\n",
    "Next I will try running the same model on "
   ]
  },
  {
   "cell_type": "markdown",
   "metadata": {},
   "source": [
    "### Fit Model on Log Price using Trimmed Variables\n",
    "Next I will test running the model on the log of Price, to see if this improves anything. "
   ]
  },
  {
   "cell_type": "code",
   "execution_count": null,
   "metadata": {},
   "outputs": [],
   "source": [
    "#Fit baseline model on log price\n",
    "base_m_log = ols(formula_log, abb_Price_predict).fit()\n",
    "\n",
    "print(base_m_log.summary())"
   ]
  },
  {
   "cell_type": "code",
   "execution_count": null,
   "metadata": {},
   "outputs": [],
   "source": [
    "base_m_log.mse_total"
   ]
  },
  {
   "cell_type": "markdown",
   "metadata": {},
   "source": [
    "Using log price significantly improves the model, increasing the Adjusted R-Squared from 0.493 to 0.636, and showing a strong decrease in AIC and BIC. I will need to exponentiate the parameter coefficients before interpreting them to interpret them correctly, but for now I will continue to use log price in my models. "
   ]
  },
  {
   "cell_type": "code",
   "execution_count": null,
   "metadata": {},
   "outputs": [],
   "source": [
    "#Put baseline parameters into dataframe for later comparison\n",
    "parameters = pd.DataFrame(base_m_log.params)\n",
    "parameters.reset_index(level=0, inplace=True)\n",
    "parameters.rename(columns={'index':'Parameter', 0:'Base_Model'}, inplace=True)\n",
    "parameters"
   ]
  },
  {
   "cell_type": "markdown",
   "metadata": {},
   "source": [
    "### Perform Feature Selection Procedures"
   ]
  },
  {
   "cell_type": "markdown",
   "metadata": {},
   "source": [
    "#### Fit LASSO Model"
   ]
  },
  {
   "cell_type": "markdown",
   "metadata": {},
   "source": [
    "Ridge Regression shrinks the parameters but does not help with telling me what parameters I can safely remove. I would like to reduce the number of predictor variables I am feeding into the model to reduce complexity. To reach that goal I will try LASSO next, because I know it can shrink many predictors to 0. \n",
    "\n",
    "Again I will iterate through different values of alpha and choose the one that reduces complexity while not impacting Adjusted R-Squared too significantly. "
   ]
  },
  {
   "cell_type": "markdown",
   "metadata": {},
   "source": [
    "First I will need to convert all categorical variables into numeric flag variables, which I will do with Pandas get_dummies method. Statsmodels ols function is nice enough to do this automatically so I did not need to do it previously, but Sci-Kit Learn requires encoding ahead of time. \n",
    "\n",
    "I will also take this opportunity to use MinMaxScaler from Scikit-Learn to scale my numeric variables. I will use MinMax instead of Standard scaler because I know most of my numeric variables do not follow a normal distribution, and are in fact skewed right (long tail to the right). \n",
    "\n",
    "Finally after scaling the data I will split it into train/test splits. "
   ]
  },
  {
   "cell_type": "code",
   "execution_count": null,
   "metadata": {},
   "outputs": [],
   "source": [
    "#Assign numeric variables to scale\n",
    "num_cols = abb_Price_predict[['host_response_rate', 'accommodates', 'bathrooms', 'bedrooms', 'beds', 'price', 'log_price', 'security_deposit',\n",
    "                             'cleaning_fee', 'guests_included', 'extra_people', 'minimum_nights', 'yelp_bus_count_5',\n",
    "                             'yelp_bus_total_reviews_5']].columns\n",
    "\n",
    "#Initialize MinMaxScaler\n",
    "scaler = MinMaxScaler()"
   ]
  },
  {
   "cell_type": "code",
   "execution_count": null,
   "metadata": {},
   "outputs": [],
   "source": [
    "abb_Price_predict.describe()"
   ]
  },
  {
   "cell_type": "code",
   "execution_count": null,
   "metadata": {},
   "outputs": [],
   "source": [
    "abb_Price_predict_scaled = abb_Price_predict.copy()\n",
    "abb_Price_predict_scaled[num_cols] = scaler.fit_transform(abb_Price_predict[num_cols])\n",
    "abb_Price_predict_scaled.describe()"
   ]
  },
  {
   "cell_type": "code",
   "execution_count": null,
   "metadata": {},
   "outputs": [],
   "source": [
    "#Perform get_dummies to one-hot encode categorical variables\n",
    "cat_cols = abb_Price_predict[['host_response_time', 'neighborhood', 'host_is_superhost', 'room_type', 'bed_type',\n",
    "                            'instant_bookable', 'cancellation_policy', 'property_type']].columns\n",
    "\n",
    "abb_Price_predict_expanded = abb_Price_predict_scaled.copy()\n",
    "abb_Price_predict_expanded = pd.get_dummies(abb_Price_predict_expanded, sparse=True, columns=cat_cols)\n",
    "\n",
    "#Confirm only numeric variables remain\n",
    "abb_Price_predict_expanded.info()"
   ]
  },
  {
   "cell_type": "code",
   "execution_count": null,
   "metadata": {},
   "outputs": [],
   "source": [
    "abb_Price_predict_expanded.describe()"
   ]
  },
  {
   "cell_type": "code",
   "execution_count": null,
   "metadata": {
    "scrolled": false
   },
   "outputs": [],
   "source": [
    "#Create X and y\n",
    "X_vars = abb_Price_predict_expanded.columns.difference(['id', 'price', 'Utilization_Rate', 'log_price'])\n",
    "X = abb_Price_predict_expanded[X_vars]\n",
    "y = abb_Price_predict_expanded['log_price']"
   ]
  },
  {
   "cell_type": "code",
   "execution_count": null,
   "metadata": {},
   "outputs": [],
   "source": [
    "frames = []\n",
    "for n in np.arange(0, 1, 0.05).tolist():\n",
    "    results_fr = model.fit_regularized(L1_wt=1, alpha=n, start_params=base_m_log.params)\n",
    "    results_fr_fit = sm.regression.linear_model.OLSResults(model, \n",
    "                                                        results_fr.params\n",
    "                                                       )\n",
    "    frames.append(np.append(n, results_fr_fit.rsquared_adj))"
   ]
  },
  {
   "cell_type": "code",
   "execution_count": null,
   "metadata": {},
   "outputs": [],
   "source": [
    "frames = pd.DataFrame(frames).rename(columns={0:'Alpha', 1:\"Adj. R-Squared\"})"
   ]
  },
  {
   "cell_type": "code",
   "execution_count": null,
   "metadata": {},
   "outputs": [],
   "source": [
    "fig=plt.figure(figsize=(10, 5), dpi=120)\n",
    "sns.lineplot(x='Alpha', y='Adj. R-Squared', data=frames,\n",
    "            markers=True, dashes=True)\n",
    "plt.title(\"Adj. R-Squared vs. Alpha\")\n",
    "plt.show()"
   ]
  },
  {
   "cell_type": "markdown",
   "metadata": {},
   "source": [
    "I cannot use too high a value for alpha, because anything above 0 rapidly drops into negative values for adjusted r-squared. I will stick with alpha = 0.01. As shown below, it significantly decreases complexity (from 104 to 18 variables, including the intercept) without dropping adjusted r-squared too steeply. "
   ]
  },
  {
   "cell_type": "code",
   "execution_count": null,
   "metadata": {},
   "outputs": [],
   "source": [
    "base_m_Lasso = ols(formula_log, abb_Price_predict).fit_regularized(alpha=0.01, L1_wt=1)"
   ]
  },
  {
   "cell_type": "code",
   "execution_count": null,
   "metadata": {},
   "outputs": [],
   "source": [
    "print(\"Variable Count: \" + str(len(base_m_Lasso.params[base_m_Lasso.params != 0].sort_values(ascending=False))))\n",
    "print(base_m_Lasso.params[base_m_Lasso.params != 0].sort_values(ascending=False))\n",
    "lasso_vars = base_m_Lasso.params[base_m_Lasso.params != 0]"
   ]
  },
  {
   "cell_type": "code",
   "execution_count": null,
   "metadata": {},
   "outputs": [],
   "source": [
    "lasso_params = pd.DataFrame(base_m_Lasso.params)\n",
    "lasso_params.reset_index(inplace=True)\n",
    "lasso_params"
   ]
  },
  {
   "cell_type": "code",
   "execution_count": null,
   "metadata": {},
   "outputs": [],
   "source": [
    "parameters = parameters.merge(lasso_params, left_on='Parameter', right_on='index')\n",
    "parameters.rename(columns={0:'Lasso Model'}, inplace=True)\n",
    "parameters.drop(columns='index', inplace=True)\n",
    "parameters"
   ]
  },
  {
   "cell_type": "markdown",
   "metadata": {},
   "source": [
    "#### Fit Random Forest to view Feature Importance\n",
    "\n",
    "Next I plan to use Random Forest as another means of reducing the number of variables. I will start from all variables and use a Feature Importance plot to see which variables I should keep in the model. "
   ]
  },
  {
   "cell_type": "code",
   "execution_count": null,
   "metadata": {},
   "outputs": [],
   "source": [
    "#Initialize random forest regressor\n",
    "rfc = RandomForestRegressor(n_estimators=100, n_jobs=-1, random_state=17)"
   ]
  },
  {
   "cell_type": "code",
   "execution_count": null,
   "metadata": {},
   "outputs": [],
   "source": [
    "#Fit random forest\n",
    "rfc.fit(X, y)"
   ]
  },
  {
   "cell_type": "code",
   "execution_count": null,
   "metadata": {},
   "outputs": [],
   "source": [
    "features = list(X_vars)\n",
    "importances = rfc.feature_importances_\n",
    "indices = np.argsort(importances)"
   ]
  },
  {
   "cell_type": "code",
   "execution_count": null,
   "metadata": {},
   "outputs": [],
   "source": [
    "fig=plt.figure(figsize=(10, 25), dpi=120)\n",
    "plt.title('Feature Importances')\n",
    "plt.barh(range(len(indices)), importances[indices], color='b')\n",
    "plt.yticks(range(len(indices)), [features[i] for i in indices])\n",
    "plt.xlabel('Relative Importance')\n",
    "plt.show()"
   ]
  },
  {
   "cell_type": "code",
   "execution_count": null,
   "metadata": {},
   "outputs": [],
   "source": [
    "features_df = pd.DataFrame(features)\n",
    "features_df.rename(columns={0:'Parameter'}, inplace=True)"
   ]
  },
  {
   "cell_type": "code",
   "execution_count": null,
   "metadata": {},
   "outputs": [],
   "source": [
    "importances_df = pd.DataFrame(importances)\n",
    "importances_df.rename(columns={0:'RF_Imp'}, inplace=True)"
   ]
  },
  {
   "cell_type": "code",
   "execution_count": null,
   "metadata": {},
   "outputs": [],
   "source": [
    "rf_vars = features_df.join(importances_df)"
   ]
  },
  {
   "cell_type": "code",
   "execution_count": null,
   "metadata": {},
   "outputs": [],
   "source": [
    "rf_vars = rf_vars[rf_vars['RF_Imp'] > 0.01]\n",
    "rf_vars"
   ]
  },
  {
   "cell_type": "markdown",
   "metadata": {},
   "source": [
    "Setting the threshold at 0.01 importance score gives 13 variables identified as \"important\" by the random forest model. "
   ]
  },
  {
   "cell_type": "markdown",
   "metadata": {},
   "source": [
    "### Use Recursive Feature Elimination to determine relevant variables"
   ]
  },
  {
   "cell_type": "markdown",
   "metadata": {},
   "source": [
    "I will use one more method to determine the best features to use in the model: Recursive Feature Elimination using scikit-learn's RFECV function. "
   ]
  },
  {
   "cell_type": "code",
   "execution_count": null,
   "metadata": {},
   "outputs": [],
   "source": [
    "ols = linear_model.LinearRegression()\n",
    "rfecv = RFECV(estimator=ols, step=1, scoring='neg_mean_squared_error')"
   ]
  },
  {
   "cell_type": "code",
   "execution_count": null,
   "metadata": {},
   "outputs": [],
   "source": [
    "rfecv.fit(X, y)"
   ]
  },
  {
   "cell_type": "code",
   "execution_count": null,
   "metadata": {},
   "outputs": [],
   "source": [
    "rfecv.n_features_"
   ]
  },
  {
   "cell_type": "markdown",
   "metadata": {},
   "source": [
    "### Test each subset of variables using Ridge Regression and Cross Validation\n",
    "\n",
    "Now that I have created subsets of relevant variables using Lasso, Random Forest, and Recursive Feature Elimination, it is time to test these subsets in an actual model. "
   ]
  },
  {
   "cell_type": "code",
   "execution_count": null,
   "metadata": {},
   "outputs": [],
   "source": [
    "#Create train-test split\n",
    "X_train, X_test, y_train,  y_test = train_test_split(X, y, \n",
    "                                                     test_size = 0.3, \n",
    "                                                     random_state=17)"
   ]
  },
  {
   "cell_type": "code",
   "execution_count": null,
   "metadata": {},
   "outputs": [],
   "source": [
    "#Initialize Model Parameters, Ridge Model, and GridSearchCV\n",
    "param_grid = {'alpha':np.arange(0, 1, 0.05)}\n",
    "ridge_model = linear_model.Ridge(random_state=17)\n",
    "ridge_cv = GridSearchCV(ridge_model, param_grid, cv=10, scoring='neg_mean_squared_error')"
   ]
  },
  {
   "cell_type": "code",
   "execution_count": null,
   "metadata": {},
   "outputs": [],
   "source": [
    "#Fit ridge with all predictors\n",
    "ridge_cv.fit(X_train, y_train)"
   ]
  },
  {
   "cell_type": "code",
   "execution_count": null,
   "metadata": {},
   "outputs": [],
   "source": [
    "#Extract scoring values\n",
    "alpha1 = ridge_cv.best_params_\n",
    "train_mse1 = ridge_cv.best_score_\n",
    "test_mse1 = ridge_cv.score(X_test, y_test)"
   ]
  },
  {
   "cell_type": "code",
   "execution_count": null,
   "metadata": {},
   "outputs": [],
   "source": [
    "#Add scoring values to a data frame (grid_results) for easier comparison\n",
    "grid_results = pd.DataFrame(columns=['Vars', 'Alpha', 'train_mse', 'test_mse'])\n",
    "grid_results = grid_results.append([{'Vars':'All', 'Alpha':alpha1, \n",
    "                                     'train_mse':train_mse1, 'test_mse':test_mse1}])"
   ]
  },
  {
   "cell_type": "code",
   "execution_count": null,
   "metadata": {},
   "outputs": [],
   "source": [
    "#Initialize Lasso predictor variables\n",
    "lasso_predictors = ['Bus_in_pt_1', 'Bus_in_pt_5', 'has_Air_conditioning', 'has_TV', 'neighborhood_Entertainment District',\n",
    "                    'neighborhood_Scarborough', 'property_type_Condominium', 'reviews_per_month_notNA',\n",
    "                   'room_type_Private room', 'accommodates', 'bedrooms', 'cleaning_fee', 'host_response_rate', 'minimum_nights',\n",
    "                   'security_deposit', 'yelp_bus_count_5', 'yelp_bus_total_reviews_5']"
   ]
  },
  {
   "cell_type": "code",
   "execution_count": null,
   "metadata": {},
   "outputs": [],
   "source": [
    "#Fit gridsearch with lasso predictors\n",
    "ridge_cv.fit(X_train[lasso_predictors], y_train)\n",
    "\n",
    "#Add scores to grid_results\n",
    "alpha2 = ridge_cv.best_params_\n",
    "train_mse2 = ridge_cv.best_score_\n",
    "test_mse2 = ridge_cv.score(X_test[lasso_predictors], y_test)\n",
    "\n",
    "grid_results = grid_results.append([{'Vars':'Lasso', 'Alpha':alpha2, \n",
    "                                     'train_mse':train_mse2, 'test_mse':test_mse2}])"
   ]
  },
  {
   "cell_type": "code",
   "execution_count": null,
   "metadata": {},
   "outputs": [],
   "source": [
    "rf_predictors = ['accommodates', 'bathrooms', 'bedrooms', 'cleaning_fee', 'extra_people', 'host_response_rate',\n",
    "                'minimum_nights', 'property_type_Condominium', 'reviews_per_month_notNA', 'room_type_Entire home/apt',\n",
    "                'security_deposit', 'yelp_bus_count_5', 'yelp_bus_total_reviews_5']"
   ]
  },
  {
   "cell_type": "code",
   "execution_count": null,
   "metadata": {},
   "outputs": [],
   "source": [
    "#Fit gridsearch with lasso predictors\n",
    "ridge_cv.fit(X_train[rf_predictors], y_train)\n",
    "\n",
    "#Add scores to grid_results\n",
    "alpha3 = ridge_cv.best_params_\n",
    "train_mse3 = ridge_cv.best_score_\n",
    "test_mse3 = ridge_cv.score(X_test[rf_predictors], y_test)\n",
    "\n",
    "grid_results = grid_results.append([{'Vars':'RandomForest', 'Alpha':alpha3, \n",
    "                                     'train_mse':train_mse3, 'test_mse':test_mse3}])"
   ]
  },
  {
   "cell_type": "code",
   "execution_count": null,
   "metadata": {
    "scrolled": true
   },
   "outputs": [],
   "source": [
    "grid_results"
   ]
  },
  {
   "cell_type": "markdown",
   "metadata": {},
   "source": [
    "#### Check Variance Inflation Factors for Multi-Collinearity"
   ]
  },
  {
   "cell_type": "code",
   "execution_count": null,
   "metadata": {},
   "outputs": [],
   "source": [
    "#X = abb_Price_predict.drop(['id', 'price', 'Utilization_Rate', 'log_price'], axis=1)\n",
    "#features = \"+\".join(abb_Price_predict.columns - [['id', 'price', 'Utilization_Rate', 'log_price']])\n",
    "y, X = dmatrices('price~' + X_cols, abb_Price_predict, return_type='dataframe')"
   ]
  },
  {
   "cell_type": "code",
   "execution_count": null,
   "metadata": {},
   "outputs": [],
   "source": [
    "vif = pd.DataFrame()\n",
    "vif[\"VIF Factor\"] = [variance_inflation_factor(X.values, i) for i in range(X.shape[1])]\n",
    "vif[\"features\"] = X.columns"
   ]
  },
  {
   "cell_type": "code",
   "execution_count": null,
   "metadata": {},
   "outputs": [],
   "source": [
    "vif.round(1)"
   ]
  },
  {
   "cell_type": "markdown",
   "metadata": {},
   "source": [
    "## Predicting Utilization Rate\n",
    "\n",
    "### Produce Baseline Utilization Rate Prediction Model\n",
    "\n",
    "#### First Calculate Price vs. Predicted Price Delta"
   ]
  },
  {
   "cell_type": "markdown",
   "metadata": {},
   "source": [
    "#### Fit Ridge Regression Model"
   ]
  },
  {
   "cell_type": "markdown",
   "metadata": {},
   "source": [
    "Next I will run Ridge regression on the dataset, but first I need to find the optimal value for Alpha. I will loop through values of alpha from 0 to 1, stepping by 0.05, and look for the alpha that only slightly decreases Adjusted R-Squared."
   ]
  },
  {
   "cell_type": "code",
   "execution_count": null,
   "metadata": {},
   "outputs": [],
   "source": [
    "model = ols(formula_log, abb_Price_predict)"
   ]
  },
  {
   "cell_type": "code",
   "execution_count": null,
   "metadata": {},
   "outputs": [],
   "source": [
    "frames = []\n",
    "for n in np.arange(0, 1, 0.05).tolist():\n",
    "    results_fr = model.fit_regularized(L1_wt=0, alpha=n, start_params=base_m_log.params)\n",
    "    results_fr_fit = sm.regression.linear_model.OLSResults(model, \n",
    "                                                        results_fr.params\n",
    "                                                       )\n",
    "    frames.append(np.append(n, results_fr_fit.rsquared_adj))"
   ]
  },
  {
   "cell_type": "code",
   "execution_count": null,
   "metadata": {
    "scrolled": true
   },
   "outputs": [],
   "source": [
    "frames = pd.DataFrame(frames).rename(columns={0:'Alpha', 1:\"Adj. R-Squared\"})"
   ]
  },
  {
   "cell_type": "code",
   "execution_count": null,
   "metadata": {},
   "outputs": [],
   "source": [
    "fig=plt.figure(figsize=(10, 5), dpi=120)\n",
    "sns.lineplot(x='Alpha', y='Adj. R-Squared', data=frames,\n",
    "            markers=True, dashes=True)\n",
    "plt.title(\"Adj. R-Squared vs. Alpha\")\n",
    "plt.show()"
   ]
  },
  {
   "cell_type": "markdown",
   "metadata": {},
   "source": [
    "The line decreases fairly steadily but there is a slight \"elbow\" at alpha = 0.05, so I will choose that as my alpha for Ridge Regression."
   ]
  },
  {
   "cell_type": "code",
   "execution_count": null,
   "metadata": {},
   "outputs": [],
   "source": [
    "base_m_Ridge = ols(formula_log, abb_Price_predict).fit_regularized(alpha=0.05, L1_wt=0)"
   ]
  },
  {
   "cell_type": "code",
   "execution_count": null,
   "metadata": {},
   "outputs": [],
   "source": [
    "ridge_params = pd.DataFrame(base_m_Ridge.params)"
   ]
  },
  {
   "cell_type": "code",
   "execution_count": null,
   "metadata": {},
   "outputs": [],
   "source": [
    "parameters = parameters.join(ridge_params)"
   ]
  },
  {
   "cell_type": "code",
   "execution_count": null,
   "metadata": {},
   "outputs": [],
   "source": [
    "parameters.rename(columns={0:'Ridge Model'}, inplace=True)\n",
    "parameters"
   ]
  }
 ],
 "metadata": {
  "kernelspec": {
   "display_name": "Python 3",
   "language": "python",
   "name": "python3"
  },
  "language_info": {
   "codemirror_mode": {
    "name": "ipython",
    "version": 3
   },
   "file_extension": ".py",
   "mimetype": "text/x-python",
   "name": "python",
   "nbconvert_exporter": "python",
   "pygments_lexer": "ipython3",
   "version": "3.6.5"
  }
 },
 "nbformat": 4,
 "nbformat_minor": 2
}
