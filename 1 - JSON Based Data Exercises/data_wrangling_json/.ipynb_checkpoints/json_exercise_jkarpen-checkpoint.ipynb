{
 "cells": [
  {
   "cell_type": "markdown",
   "metadata": {},
   "source": [
    "# Springboard JSON Exercises\n",
    "Data Science w/ Python Curriculum\n",
    "Submitted by: Josh Karpen\n",
    "\n",
    "## Import Relevant Libraries"
   ]
  },
  {
   "cell_type": "code",
   "execution_count": 1,
   "metadata": {},
   "outputs": [],
   "source": [
    "import pandas as pd\n",
    "import json\n",
    "from pandas.io.json import json_normalize"
   ]
  },
  {
   "cell_type": "markdown",
   "metadata": {},
   "source": [
    "## Import Data"
   ]
  },
  {
   "cell_type": "code",
   "execution_count": 9,
   "metadata": {},
   "outputs": [],
   "source": [
    "df = pd.read_json('data/world_bank_projects.json')"
   ]
  },
  {
   "cell_type": "markdown",
   "metadata": {},
   "source": [
    "## Exercise 1 - Find Top 10 Countries w/ Most Projects"
   ]
  },
  {
   "cell_type": "code",
   "execution_count": 6,
   "metadata": {
    "scrolled": true
   },
   "outputs": [
    {
     "name": "stdout",
     "output_type": "stream",
     "text": [
      "<class 'pandas.core.frame.DataFrame'>\n",
      "RangeIndex: 500 entries, 0 to 499\n",
      "Data columns (total 50 columns):\n",
      "_id                         500 non-null object\n",
      "approvalfy                  500 non-null int64\n",
      "board_approval_month        500 non-null object\n",
      "boardapprovaldate           500 non-null object\n",
      "borrower                    485 non-null object\n",
      "closingdate                 370 non-null object\n",
      "country_namecode            500 non-null object\n",
      "countrycode                 500 non-null object\n",
      "countryname                 500 non-null object\n",
      "countryshortname            500 non-null object\n",
      "docty                       446 non-null object\n",
      "envassesmentcategorycode    430 non-null object\n",
      "grantamt                    500 non-null int64\n",
      "ibrdcommamt                 500 non-null int64\n",
      "id                          500 non-null object\n",
      "idacommamt                  500 non-null int64\n",
      "impagency                   472 non-null object\n",
      "lendinginstr                495 non-null object\n",
      "lendinginstrtype            495 non-null object\n",
      "lendprojectcost             500 non-null int64\n",
      "majorsector_percent         500 non-null object\n",
      "mjsector_namecode           500 non-null object\n",
      "mjtheme                     491 non-null object\n",
      "mjtheme_namecode            500 non-null object\n",
      "mjthemecode                 500 non-null object\n",
      "prodline                    500 non-null object\n",
      "prodlinetext                500 non-null object\n",
      "productlinetype             500 non-null object\n",
      "project_abstract            362 non-null object\n",
      "project_name                500 non-null object\n",
      "projectdocs                 446 non-null object\n",
      "projectfinancialtype        500 non-null object\n",
      "projectstatusdisplay        500 non-null object\n",
      "regionname                  500 non-null object\n",
      "sector                      500 non-null object\n",
      "sector1                     500 non-null object\n",
      "sector2                     380 non-null object\n",
      "sector3                     265 non-null object\n",
      "sector4                     174 non-null object\n",
      "sector_namecode             500 non-null object\n",
      "sectorcode                  500 non-null object\n",
      "source                      500 non-null object\n",
      "status                      500 non-null object\n",
      "supplementprojectflg        498 non-null object\n",
      "theme1                      500 non-null object\n",
      "theme_namecode              491 non-null object\n",
      "themecode                   491 non-null object\n",
      "totalamt                    500 non-null int64\n",
      "totalcommamt                500 non-null int64\n",
      "url                         500 non-null object\n",
      "dtypes: int64(7), object(43)\n",
      "memory usage: 195.4+ KB\n"
     ]
    }
   ],
   "source": [
    "#Check what columns are in the dataset... \n",
    "#Project_name and countryname could help answer this question\n",
    "df.info()"
   ]
  },
  {
   "cell_type": "code",
   "execution_count": 45,
   "metadata": {},
   "outputs": [
    {
     "name": "stdout",
     "output_type": "stream",
     "text": [
      "                                                 index  project_name\n",
      "0    Timor Leste Road Climate Resilience Project - ...             1\n",
      "329  Integration of Children with Disabilities into...             1\n",
      "342  AusAid TA for Vietnam Rural Water Supply and S...             1\n",
      "341   Hunan Forest Restoration and Development Project             1\n",
      "340  Additional Financing Energy Efficiency - Indus...             1\n",
      " \n",
      "index           Timor Leste Road Climate Resilience Project - ...\n",
      "project_name                                                  500\n",
      "dtype: object\n"
     ]
    }
   ],
   "source": [
    "#First check if project_names are actually unique\n",
    "proj_counts = df['project_name'].value_counts().to_frame().reset_index().sort_values('project_name', ascending=False)\n",
    "print(proj_counts.head())\n",
    "print(\" \")\n",
    "print(proj_counts.sum())"
   ]
  },
  {
   "cell_type": "markdown",
   "metadata": {},
   "source": [
    "Each Project appears only once so we do not have duplicate records."
   ]
  },
  {
   "cell_type": "code",
   "execution_count": 46,
   "metadata": {
    "scrolled": true
   },
   "outputs": [],
   "source": [
    "#Group df by countryname and get a count of project_name per country\n",
    "df_country_proj = df.groupby('countryname')['project_name'].count().to_frame().sort_values('project_name', ascending=False)\n"
   ]
  },
  {
   "cell_type": "markdown",
   "metadata": {},
   "source": [
    "The top 10 countries with the most projects are:"
   ]
  },
  {
   "cell_type": "code",
   "execution_count": 47,
   "metadata": {},
   "outputs": [
    {
     "name": "stdout",
     "output_type": "stream",
     "text": [
      "                                 project_name\n",
      "countryname                                  \n",
      "People's Republic of China                 19\n",
      "Republic of Indonesia                      19\n",
      "Socialist Republic of Vietnam              17\n",
      "Republic of India                          16\n",
      "Republic of Yemen                          13\n",
      "People's Republic of Bangladesh            12\n",
      "Nepal                                      12\n",
      "Kingdom of Morocco                         12\n",
      "Republic of Mozambique                     11\n",
      "Africa                                     11\n"
     ]
    }
   ],
   "source": [
    "print(df_country_proj.head(10))"
   ]
  },
  {
   "cell_type": "markdown",
   "metadata": {},
   "source": [
    "Africa is a continent, not a country, so this data might need cleaning."
   ]
  },
  {
   "cell_type": "markdown",
   "metadata": {},
   "source": [
    "## Exercise 2 - Find Top 10 Major Project Themes"
   ]
  },
  {
   "cell_type": "code",
   "execution_count": 52,
   "metadata": {
    "scrolled": true
   },
   "outputs": [
    {
     "data": {
      "text/plain": [
       "0    [{'code': '8', 'name': 'Human development'}, {...\n",
       "1    [{'code': '1', 'name': 'Economic management'},...\n",
       "2    [{'code': '5', 'name': 'Trade and integration'...\n",
       "3    [{'code': '7', 'name': 'Social dev/gender/incl...\n",
       "4    [{'code': '5', 'name': 'Trade and integration'...\n",
       "Name: mjtheme_namecode, dtype: object"
      ]
     },
     "execution_count": 52,
     "metadata": {},
     "output_type": "execute_result"
    }
   ],
   "source": [
    "#Inspect column mjtheme_namecode\n",
    "df['mjtheme_namecode'].head()"
   ]
  },
  {
   "cell_type": "markdown",
   "metadata": {},
   "source": [
    "This column appears to be a nested JSON with Codes and Names embedded within, so we cannot do a groupby and count the values just yet. We will need to normalize this column first using json_normalize. First we reload the dataset using json.load() because the dataframe previously created does not work with json_normalize."
   ]
  },
  {
   "cell_type": "code",
   "execution_count": 176,
   "metadata": {},
   "outputs": [
    {
     "name": "stdout",
     "output_type": "stream",
     "text": [
      "  code                                   name       id\n",
      "0    8                      Human development  P129828\n",
      "1   11                                         P129828\n",
      "2    1                    Economic management  P144674\n",
      "3    6  Social protection and risk management  P144674\n",
      "4    5                  Trade and integration  P145310\n"
     ]
    },
    {
     "ename": "AttributeError",
     "evalue": "'list' object has no attribute 'mjtheme_namecode'",
     "output_type": "error",
     "traceback": [
      "\u001b[1;31m---------------------------------------------------------------------------\u001b[0m",
      "\u001b[1;31mAttributeError\u001b[0m                            Traceback (most recent call last)",
      "\u001b[1;32m<ipython-input-176-52f276d316fc>\u001b[0m in \u001b[0;36m<module>\u001b[1;34m()\u001b[0m\n\u001b[0;32m      6\u001b[0m \u001b[1;31m#Check whether it looks better for analysis now\u001b[0m\u001b[1;33m\u001b[0m\u001b[1;33m\u001b[0m\u001b[0m\n\u001b[0;32m      7\u001b[0m \u001b[0mprint\u001b[0m\u001b[1;33m(\u001b[0m\u001b[0mdf_themes\u001b[0m\u001b[1;33m.\u001b[0m\u001b[0mhead\u001b[0m\u001b[1;33m(\u001b[0m\u001b[1;33m)\u001b[0m\u001b[1;33m)\u001b[0m\u001b[1;33m\u001b[0m\u001b[0m\n\u001b[1;32m----> 8\u001b[1;33m \u001b[0mprint\u001b[0m\u001b[1;33m(\u001b[0m\u001b[0mdata\u001b[0m\u001b[1;33m.\u001b[0m\u001b[0mmjtheme_namecode\u001b[0m\u001b[1;33m)\u001b[0m\u001b[1;33m\u001b[0m\u001b[0m\n\u001b[0m",
      "\u001b[1;31mAttributeError\u001b[0m: 'list' object has no attribute 'mjtheme_namecode'"
     ]
    }
   ],
   "source": [
    "#Reopening the dataset using json.load to get around 'string indices must be integers' error\n",
    "with open('data/world_bank_projects.json') as file:\n",
    "    data = json.load(file)\n",
    "#pass data through json_normalize\n",
    "df_themes = json_normalize(data, 'mjtheme_namecode', ['id'])\n",
    "#Check whether it looks better for analysis now\n",
    "print(df_themes.head())"
   ]
  },
  {
   "cell_type": "markdown",
   "metadata": {},
   "source": [
    "Now do a groupby operation to view the count of theme Code and Name and sort in descending order."
   ]
  },
  {
   "cell_type": "code",
   "execution_count": 134,
   "metadata": {},
   "outputs": [
    {
     "name": "stdout",
     "output_type": "stream",
     "text": [
      "Top 10 Themes by Code and Name\n",
      "                                                    id\n",
      "code name                                             \n",
      "11   Environment and natural resources management  223\n",
      "10   Rural development                             202\n",
      "8    Human development                             197\n",
      "2    Public sector governance                      184\n",
      "6    Social protection and risk management         158\n",
      "4    Financial and private sector development      130\n",
      "7    Social dev/gender/inclusion                   119\n",
      "5    Trade and integration                          72\n",
      "9    Urban development                              47\n",
      "1    Economic management                            33\n"
     ]
    }
   ],
   "source": [
    "df_themes_grouped_name = df_themes.groupby(['code', 'name'])['id'].count().to_frame().sort_values('id', ascending=False) \n",
    "print(\"Top 10 Themes by Code and Name\")\n",
    "print(df_themes_grouped_name.head(10))"
   ]
  },
  {
   "cell_type": "markdown",
   "metadata": {},
   "source": [
    "This looks good but checking the output two cells higher, we can see that Code 11 does not have a Name in that output, but in the Top 10 Themes list it does have a name. This indicates that some Codes are missing Names, but only in certain rows of the data. So we are likely under-counting values."
   ]
  },
  {
   "cell_type": "code",
   "execution_count": 135,
   "metadata": {},
   "outputs": [
    {
     "name": "stdout",
     "output_type": "stream",
     "text": [
      "Top 10 Themes by Code Only\n",
      "       id\n",
      "code     \n",
      "11    250\n",
      "10    216\n",
      "8     210\n",
      "2     199\n",
      "6     168\n",
      "4     146\n",
      "7     130\n",
      "5      77\n",
      "9      50\n",
      "1      38\n"
     ]
    }
   ],
   "source": [
    "df_themes_grouped = df_themes.groupby('code')['id'].count().to_frame().sort_values('id', ascending=False)\n",
    "print(\"Top 10 Themes by Code Only\")\n",
    "print(df_themes_grouped.head(10))\n"
   ]
  },
  {
   "cell_type": "markdown",
   "metadata": {},
   "source": [
    "Removing Name from the groupby lets us see the counts by Code alone. We can see that some counts are higher (Code 11 goes from 223 to 250) but the ranking is the same. However it would be nice to get the correct values and be able to see the name at the same time..."
   ]
  },
  {
   "cell_type": "markdown",
   "metadata": {},
   "source": [
    "# Exercise 3 - Fill In the Missing Names"
   ]
  },
  {
   "cell_type": "markdown",
   "metadata": {},
   "source": [
    "In order to create a dataframe with the blank names filled in, first we can create a dataframe with only the unique Code and Name values, without blanks."
   ]
  },
  {
   "cell_type": "code",
   "execution_count": 158,
   "metadata": {},
   "outputs": [
    {
     "name": "stdout",
     "output_type": "stream",
     "text": [
      "                                              name\n",
      "code                                              \n",
      "1                              Economic management\n",
      "10                               Rural development\n",
      "11    Environment and natural resources management\n",
      "2                         Public sector governance\n",
      "3                                      Rule of law\n",
      "4         Financial and private sector development\n",
      "5                            Trade and integration\n",
      "6            Social protection and risk management\n",
      "7                      Social dev/gender/inclusion\n",
      "8                                Human development\n",
      "9                                Urban development\n"
     ]
    }
   ],
   "source": [
    "#Create a dataframe with Codes and non-blank Names (only filled-in names kept).\n",
    "#Remove blank names\n",
    "df_themes_filled_names = df_themes[df_themes.name != '']\n",
    "#Drop 'id' column\n",
    "df_themes_filled_names = df_themes_filled_names.drop('id', axis=1)\n",
    "#Change the index to Code\n",
    "df_themes_filled_names.set_index('code', inplace=True)\n",
    "#Remove duplicate rows, leaving only unique Code and Name values\n",
    "df_themes_filled_names.drop_duplicates(inplace=True)\n",
    "\n",
    "print(df_themes_filled_names.sort_values('code'))\n"
   ]
  },
  {
   "cell_type": "markdown",
   "metadata": {},
   "source": [
    "Next we can merge df_themes_filled_names with df_themes_grouped (the dataframe created earlier with only the Code and counts per code).\n"
   ]
  },
  {
   "cell_type": "code",
   "execution_count": 165,
   "metadata": {},
   "outputs": [
    {
     "data": {
      "text/html": [
       "<div>\n",
       "<style scoped>\n",
       "    .dataframe tbody tr th:only-of-type {\n",
       "        vertical-align: middle;\n",
       "    }\n",
       "\n",
       "    .dataframe tbody tr th {\n",
       "        vertical-align: top;\n",
       "    }\n",
       "\n",
       "    .dataframe thead th {\n",
       "        text-align: right;\n",
       "    }\n",
       "</style>\n",
       "<table border=\"1\" class=\"dataframe\">\n",
       "  <thead>\n",
       "    <tr style=\"text-align: right;\">\n",
       "      <th></th>\n",
       "      <th>name</th>\n",
       "      <th>id</th>\n",
       "    </tr>\n",
       "    <tr>\n",
       "      <th>code</th>\n",
       "      <th></th>\n",
       "      <th></th>\n",
       "    </tr>\n",
       "  </thead>\n",
       "  <tbody>\n",
       "    <tr>\n",
       "      <th>11</th>\n",
       "      <td>Environment and natural resources management</td>\n",
       "      <td>250</td>\n",
       "    </tr>\n",
       "    <tr>\n",
       "      <th>10</th>\n",
       "      <td>Rural development</td>\n",
       "      <td>216</td>\n",
       "    </tr>\n",
       "    <tr>\n",
       "      <th>8</th>\n",
       "      <td>Human development</td>\n",
       "      <td>210</td>\n",
       "    </tr>\n",
       "    <tr>\n",
       "      <th>2</th>\n",
       "      <td>Public sector governance</td>\n",
       "      <td>199</td>\n",
       "    </tr>\n",
       "    <tr>\n",
       "      <th>6</th>\n",
       "      <td>Social protection and risk management</td>\n",
       "      <td>168</td>\n",
       "    </tr>\n",
       "    <tr>\n",
       "      <th>4</th>\n",
       "      <td>Financial and private sector development</td>\n",
       "      <td>146</td>\n",
       "    </tr>\n",
       "    <tr>\n",
       "      <th>7</th>\n",
       "      <td>Social dev/gender/inclusion</td>\n",
       "      <td>130</td>\n",
       "    </tr>\n",
       "    <tr>\n",
       "      <th>5</th>\n",
       "      <td>Trade and integration</td>\n",
       "      <td>77</td>\n",
       "    </tr>\n",
       "    <tr>\n",
       "      <th>9</th>\n",
       "      <td>Urban development</td>\n",
       "      <td>50</td>\n",
       "    </tr>\n",
       "    <tr>\n",
       "      <th>1</th>\n",
       "      <td>Economic management</td>\n",
       "      <td>38</td>\n",
       "    </tr>\n",
       "    <tr>\n",
       "      <th>3</th>\n",
       "      <td>Rule of law</td>\n",
       "      <td>15</td>\n",
       "    </tr>\n",
       "  </tbody>\n",
       "</table>\n",
       "</div>"
      ],
      "text/plain": [
       "                                              name   id\n",
       "code                                                   \n",
       "11    Environment and natural resources management  250\n",
       "10                               Rural development  216\n",
       "8                                Human development  210\n",
       "2                         Public sector governance  199\n",
       "6            Social protection and risk management  168\n",
       "4         Financial and private sector development  146\n",
       "7                      Social dev/gender/inclusion  130\n",
       "5                            Trade and integration   77\n",
       "9                                Urban development   50\n",
       "1                              Economic management   38\n",
       "3                                      Rule of law   15"
      ]
     },
     "execution_count": 165,
     "metadata": {},
     "output_type": "execute_result"
    }
   ],
   "source": [
    "themes_cleaned = pd.concat([df_themes_filled_names, df_themes_grouped], axis=1, join='inner')\n",
    "themes_cleaned.sort_values('id', ascending=False)"
   ]
  },
  {
   "cell_type": "markdown",
   "metadata": {},
   "source": [
    "And now we can see the correct counts by Code and Name, with all names filled in."
   ]
  }
 ],
 "metadata": {
  "kernelspec": {
   "display_name": "Python 3",
   "language": "python",
   "name": "python3"
  },
  "language_info": {
   "codemirror_mode": {
    "name": "ipython",
    "version": 3
   },
   "file_extension": ".py",
   "mimetype": "text/x-python",
   "name": "python",
   "nbconvert_exporter": "python",
   "pygments_lexer": "ipython3",
   "version": "3.6.5"
  }
 },
 "nbformat": 4,
 "nbformat_minor": 2
}
