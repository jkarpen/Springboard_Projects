{
 "cells": [
  {
   "cell_type": "markdown",
   "metadata": {},
   "source": [
    "# What is the True Normal Human Body Temperature? \n",
    "\n",
    "### Submission by Joshua Karpen\n",
    "\n",
    "#### Background\n",
    "\n",
    "The mean normal body temperature was held to be 37$^{\\circ}$C or 98.6$^{\\circ}$F for more than 120 years since it was first conceptualized and reported by Carl Wunderlich in a famous 1868 book. But, is this value statistically correct?"
   ]
  },
  {
   "cell_type": "markdown",
   "metadata": {},
   "source": [
    "<h3>Exercises</h3>\n",
    "\n",
    "<p>In this exercise, you will analyze a dataset of human body temperatures and employ the concepts of hypothesis testing, confidence intervals, and statistical significance.</p>\n",
    "\n",
    "<p>Answer the following questions <b>in this notebook below and submit to your Github account</b>.</p> \n",
    "\n",
    "<ol>\n",
    "<li>  Is the distribution of body temperatures normal? \n",
    "    <ul>\n",
    "    <li> Although this is not a requirement for the Central Limit Theorem to hold (read the introduction on Wikipedia's page about the CLT carefully: https://en.wikipedia.org/wiki/Central_limit_theorem), it gives us some peace of mind that the population may also be normally distributed if we assume that this sample is representative of the population.\n",
    "    <li> Think about the way you're going to check for the normality of the distribution. Graphical methods are usually used first, but there are also other ways: https://en.wikipedia.org/wiki/Normality_test\n",
    "    </ul>\n",
    "<li>  Is the sample size large? Are the observations independent?\n",
    "    <ul>\n",
    "    <li> Remember that this is a condition for the Central Limit Theorem, and hence the statistical tests we are using, to apply.\n",
    "    </ul>\n",
    "<li>  Is the true population mean really 98.6 degrees F?\n",
    "    <ul>\n",
    "    <li> First, try a bootstrap hypothesis test.\n",
    "    <li> Now, let's try frequentist statistical testing. Would you use a one-sample or two-sample test? Why?\n",
    "    <li> In this situation, is it appropriate to use the $t$ or $z$ statistic? \n",
    "    <li> Now try using the other test. How is the result be different? Why?\n",
    "    </ul>\n",
    "<li>  Draw a small sample of size 10 from the data and repeat both frequentist tests. \n",
    "    <ul>\n",
    "    <li> Which one is the correct one to use? \n",
    "    <li> What do you notice? What does this tell you about the difference in application of the $t$ and $z$ statistic?\n",
    "    </ul>\n",
    "<li>  At what temperature should we consider someone's temperature to be \"abnormal\"?\n",
    "    <ul>\n",
    "    <li> As in the previous example, try calculating everything using the boostrap approach, as well as the frequentist approach.\n",
    "    <li> Start by computing the margin of error and confidence interval. When calculating the confidence interval, keep in mind that you should use the appropriate formula for one draw, and not N draws.\n",
    "    </ul>\n",
    "<li>  Is there a significant difference between males and females in normal temperature?\n",
    "    <ul>\n",
    "    <li> What testing approach did you use and why?\n",
    "    <li> Write a story with your conclusion in the context of the original problem.\n",
    "    </ul>\n",
    "</ol>\n",
    "\n",
    "You can include written notes in notebook cells using Markdown: \n",
    "   - In the control panel at the top, choose Cell > Cell Type > Markdown\n",
    "   - Markdown syntax: http://nestacms.com/docs/creating-content/markdown-cheat-sheet\n",
    "\n",
    "#### Resources\n",
    "\n",
    "+ Information and data sources: http://www.amstat.org/publications/jse/datasets/normtemp.txt, http://www.amstat.org/publications/jse/jse_data_archive.htm\n",
    "+ Markdown syntax: http://nestacms.com/docs/creating-content/markdown-cheat-sheet\n",
    "\n",
    "****"
   ]
  },
  {
   "cell_type": "code",
   "execution_count": 2,
   "metadata": {},
   "outputs": [],
   "source": [
    "#Import packages\n",
    "import pandas as pd\n",
    "import numpy as np\n",
    "import matplotlib.pyplot as plt\n",
    "import seaborn as sns\n",
    "sns.set()\n",
    "from scipy import stats\n",
    "from statsmodels.stats.weightstats import ztest"
   ]
  },
  {
   "cell_type": "code",
   "execution_count": 3,
   "metadata": {},
   "outputs": [],
   "source": [
    "#Read in data\n",
    "df = pd.read_csv('data/human_body_temperature.csv')"
   ]
  },
  {
   "cell_type": "code",
   "execution_count": 5,
   "metadata": {},
   "outputs": [
    {
     "data": {
      "text/html": [
       "<div>\n",
       "<style scoped>\n",
       "    .dataframe tbody tr th:only-of-type {\n",
       "        vertical-align: middle;\n",
       "    }\n",
       "\n",
       "    .dataframe tbody tr th {\n",
       "        vertical-align: top;\n",
       "    }\n",
       "\n",
       "    .dataframe thead th {\n",
       "        text-align: right;\n",
       "    }\n",
       "</style>\n",
       "<table border=\"1\" class=\"dataframe\">\n",
       "  <thead>\n",
       "    <tr style=\"text-align: right;\">\n",
       "      <th></th>\n",
       "      <th>temperature</th>\n",
       "      <th>gender</th>\n",
       "      <th>heart_rate</th>\n",
       "    </tr>\n",
       "  </thead>\n",
       "  <tbody>\n",
       "    <tr>\n",
       "      <th>0</th>\n",
       "      <td>99.3</td>\n",
       "      <td>F</td>\n",
       "      <td>68.0</td>\n",
       "    </tr>\n",
       "    <tr>\n",
       "      <th>1</th>\n",
       "      <td>98.4</td>\n",
       "      <td>F</td>\n",
       "      <td>81.0</td>\n",
       "    </tr>\n",
       "    <tr>\n",
       "      <th>2</th>\n",
       "      <td>97.8</td>\n",
       "      <td>M</td>\n",
       "      <td>73.0</td>\n",
       "    </tr>\n",
       "    <tr>\n",
       "      <th>3</th>\n",
       "      <td>99.2</td>\n",
       "      <td>F</td>\n",
       "      <td>66.0</td>\n",
       "    </tr>\n",
       "    <tr>\n",
       "      <th>4</th>\n",
       "      <td>98.0</td>\n",
       "      <td>F</td>\n",
       "      <td>73.0</td>\n",
       "    </tr>\n",
       "  </tbody>\n",
       "</table>\n",
       "</div>"
      ],
      "text/plain": [
       "   temperature gender  heart_rate\n",
       "0         99.3      F        68.0\n",
       "1         98.4      F        81.0\n",
       "2         97.8      M        73.0\n",
       "3         99.2      F        66.0\n",
       "4         98.0      F        73.0"
      ]
     },
     "execution_count": 5,
     "metadata": {},
     "output_type": "execute_result"
    }
   ],
   "source": [
    "df.head()"
   ]
  },
  {
   "cell_type": "code",
   "execution_count": 35,
   "metadata": {},
   "outputs": [
    {
     "data": {
      "text/plain": [
       "98.24923076923078"
      ]
     },
     "execution_count": 35,
     "metadata": {},
     "output_type": "execute_result"
    }
   ],
   "source": [
    "np.mean(df.temperature)"
   ]
  },
  {
   "cell_type": "code",
   "execution_count": 36,
   "metadata": {},
   "outputs": [
    {
     "data": {
      "text/plain": [
       "0.7303577789050377"
      ]
     },
     "execution_count": 36,
     "metadata": {},
     "output_type": "execute_result"
    }
   ],
   "source": [
    "np.std(df.temperature)"
   ]
  },
  {
   "cell_type": "code",
   "execution_count": 37,
   "metadata": {},
   "outputs": [
    {
     "data": {
      "text/plain": [
       "130"
      ]
     },
     "execution_count": 37,
     "metadata": {},
     "output_type": "execute_result"
    }
   ],
   "source": [
    "len(df)"
   ]
  },
  {
   "cell_type": "markdown",
   "metadata": {},
   "source": [
    "## 1 - Is the distribution of body temperatures normal?\n",
    "I will start by checking normality graphically, with a simple histogram of temperatures and a view of the estimated cumulative density function (ECDF)."
   ]
  },
  {
   "cell_type": "code",
   "execution_count": 34,
   "metadata": {},
   "outputs": [
    {
     "data": {
      "image/png": "[encoded data removed]",
      "text/plain": [
       "<Figure size 1200x600 with 1 Axes>"
      ]
     },
     "metadata": {},
     "output_type": "display_data"
    }
   ],
   "source": [
    "#Plotting a simple histogram\n",
    "_ = plt.figure(figsize=(10, 5), dpi=120)\n",
    "_ = plt.hist(df.temperature, bins=15, density=True)\n",
    "_ = plt.xlabel('Temperatures')\n",
    "_ = plt.ylabel('Density')"
   ]
  },
  {
   "cell_type": "code",
   "execution_count": 18,
   "metadata": {},
   "outputs": [],
   "source": [
    "#Create function to generate ECDF, code taken from DataCamp exercises\n",
    "def ecdf(data):\n",
    "    \"\"\"Compute ECDF for a one-dimensional array of measurements\"\"\"\n",
    "    n = len(data)\n",
    "    \n",
    "    x = np.sort(data)\n",
    "    y = np.arange(1, n+1) / n\n",
    "    \n",
    "    return x, y"
   ]
  },
  {
   "cell_type": "code",
   "execution_count": 21,
   "metadata": {},
   "outputs": [],
   "source": [
    "#Compute summary stats\n",
    "mean = np.mean(df.temperature)\n",
    "std = np.std(df.temperature)\n",
    "#Generate a normal distribution with same mean/standard deviation as the temperature data\n",
    "samples = np.random.normal(mean, std, size=10000)\n",
    "\n",
    "#Generating the ECDF for the actual data and the samples to compare against\n",
    "x, y = ecdf(df.temperature)\n",
    "x_theor, y_theor = ecdf(samples)"
   ]
  },
  {
   "cell_type": "code",
   "execution_count": 23,
   "metadata": {},
   "outputs": [
    {
     "data": {
      "image/png": "[encoded data removed]",
      "text/plain": [
       "<Figure size 1200x600 with 1 Axes>"
      ]
     },
     "metadata": {},
     "output_type": "display_data"
    }
   ],
   "source": [
    "#Visualize ECDF of actual data against normal samples\n",
    "_ = plt.figure(figsize=(10, 5), dpi=120)\n",
    "_ = plt.plot(x_theor, y_theor)\n",
    "_ = plt.plot(x, y, marker='.', linestyle='none')\n",
    "_ = plt.xlabel('Temperatures')\n",
    "_ = plt.ylabel('CDF')"
   ]
  },
  {
   "cell_type": "markdown",
   "metadata": {},
   "source": [
    "The visualizations show a distribution that appears very close to normal, but may not completely follow the normal distribution. In the histogram the counts are higher below the mean of 98.24, and are more sparse at the high end of the range. \n",
    "\n",
    "In the ECDF the actual values (the orange dots) closely hug the normalized samples (the blue line) but are slightly low in the middle of the range, and slightly high around 99 degrees. \n",
    "\n",
    "To further test the normality of the temperatures I will use the Kolmogorov-Smirnov test, described here: https://en.wikipedia.org/wiki/Kolmogorov%E2%80%93Smirnov_test. The test is available in scipy using the kstest function: https://docs.scipy.org/doc/scipy-0.7.x/reference/generated/scipy.stats.kstest.html."
   ]
  },
  {
   "cell_type": "code",
   "execution_count": 74,
   "metadata": {},
   "outputs": [
    {
     "data": {
      "text/plain": [
       "KstestResult(statistic=0.06385348427883908, pvalue=0.6645320172840661)"
      ]
     },
     "execution_count": 74,
     "metadata": {},
     "output_type": "execute_result"
    }
   ],
   "source": [
    "test_stat = kstest(df['temperature'], 'norm', args=(mean, std))\n",
    "test_stat"
   ]
  },
  {
   "cell_type": "markdown",
   "metadata": {},
   "source": [
    "The KS Test Statistic is 0.064, with a p-value 0.665. According to the kstest documentation:\n",
    "\n",
    "\"If the p-value is greater than the significance level (say 5%), then we cannot reject the hypothesis that the data come from the given distribution.\"\n",
    "\n",
    "The p-value is well above the standard 5% level so I cannot reject the null hypothesis that the distribution of temperatures is normal. "
   ]
  },
  {
   "cell_type": "markdown",
   "metadata": {},
   "source": [
    "## 2 - Is the sample size large? Are the observations independent?\n",
    "\n",
    "The sample size is 130 records, which is not large. The observations are independent, because one person's temperature is not affected from the other temperature measurements taken (each measurement is independent of the rest). "
   ]
  },
  {
   "cell_type": "markdown",
   "metadata": {},
   "source": [
    "## 3 - Is the true population mean really 98.6 degrees F?\n",
    "\n",
    "I will check whether the true population mean is 98.6 degrees based on our sample data. First using a bootstrap hypothesis test, then with a frequentist test. For this test my null hypothesis is that the true population mean of our sample data is 98.6. "
   ]
  },
  {
   "cell_type": "code",
   "execution_count": 70,
   "metadata": {},
   "outputs": [],
   "source": [
    "#First try a bootstrap hypothesis test\n",
    "#The null hypothesis is that the true population mean is 98.6 degrees F\n",
    "pop_temp = 98.6\n",
    "\n",
    "#Shift our temperature data based on the assumed population mean\n",
    "temp_shifted = df.temperature - np.mean(df.temperature) + pop_temp\n"
   ]
  },
  {
   "cell_type": "code",
   "execution_count": 71,
   "metadata": {},
   "outputs": [
    {
     "data": {
      "text/plain": [
       "-0.35076923076921673"
      ]
     },
     "execution_count": 71,
     "metadata": {},
     "output_type": "execute_result"
    }
   ],
   "source": [
    "#Calculate the test statistic as the sample mean minus the assumed population mean\n",
    "def diff_from_temp(data, pop_temp=98.6):\n",
    "    return np.mean(data) - pop_temp\n",
    "\n",
    "diff_obs = diff_from_temp(df.temperature)\n",
    "\n",
    "diff_obs"
   ]
  },
  {
   "cell_type": "code",
   "execution_count": 62,
   "metadata": {},
   "outputs": [],
   "source": [
    "#Define function to generate bootstrap replicas\n",
    "#Taken from DataCamp exercises\n",
    "def bootstrap_replicate_1d(data, func):\n",
    "    bs_sample = np.random.choice(data, len(data))\n",
    "    return func(bs_sample)\n",
    "\n",
    "#Define function to generate many bootstrap replicas\n",
    "def draw_bs_reps(data, func, size=1):\n",
    "    bs_replicates = np.empty(size)\n",
    "    \n",
    "    for i in range(size):\n",
    "        bs_replicates[i] = bootstrap_replicate_1d(data, func)\n",
    "    \n",
    "    return bs_replicates"
   ]
  },
  {
   "cell_type": "code",
   "execution_count": 72,
   "metadata": {},
   "outputs": [
    {
     "data": {
      "text/plain": [
       "0.0"
      ]
     },
     "execution_count": 72,
     "metadata": {},
     "output_type": "execute_result"
    }
   ],
   "source": [
    "#Generate 10,000 bootstrap replicas by comparing the shifted temps \n",
    "#... against the assumed mean population temp\n",
    "bs_replicates = draw_bs_reps(temp_shifted, diff_from_temp, 10000)\n",
    "\n",
    "#Generate p-value as the number of bootstrap replicas where the difference is less than -0.35,\n",
    "#... the difference between the sample mean and the assumed population mean.\n",
    "p_value = np.sum(bs_replicates <= diff_obs) / 10000\n",
    "#View the p-value\n",
    "p_value"
   ]
  },
  {
   "cell_type": "markdown",
   "metadata": {},
   "source": [
    "The bootstrap method reveals a p-value of 0. This is because none of the bootstrapped replicates had a difference as large or greater than the difference between our sample data and the assumed population mean of 98.6. Therefore we reject the null hypothesis \n",
    "\n",
    "Next I will try a frequentist test. I will use a one-sample test because I am trying to compare the sample data to a single number, not to another set of data.\n",
    "\n",
    "I also plan to start with a t-test. According to general rule of thumb (for example https://www.statisticshowto.datasciencecentral.com/probability-and-statistics/hypothesis-testing/t-score-vs-z-score/) it is best to use the t-score if the sample size is under 30, or if the population standard deviation is unknown. In this case the sample size is above 30 (130) but we do not know the standard deviation of human body temperature in the overall population, so a t-test is more appropriate. "
   ]
  },
  {
   "cell_type": "code",
   "execution_count": 78,
   "metadata": {},
   "outputs": [
    {
     "data": {
      "text/plain": [
       "Ttest_1sampResult(statistic=-5.4548232923645195, pvalue=2.4106320415561276e-07)"
      ]
     },
     "execution_count": 78,
     "metadata": {},
     "output_type": "execute_result"
    }
   ],
   "source": [
    "#Compute a one-sample t-test statistic\n",
    "test_stat = stats.ttest_1samp(df['temperature'], 98.6)\n",
    "\n",
    "test_stat"
   ]
  },
  {
   "cell_type": "markdown",
   "metadata": {},
   "source": [
    "The p-value from this test is extremely small, which means there is a very low probability of this outcome if the null hypothesis (that the population mean is 98.6) is true. Therefore I again reject the null hypothesis. \n",
    "\n",
    "Per the instructions I will now try the two-sided test instead of the one-sided test. Technically I don't have another dataset to compare against, but I can use the shifted temperatures created earlier because they were designed to simulate a situation where the mean is 98.6. "
   ]
  },
  {
   "cell_type": "code",
   "execution_count": 79,
   "metadata": {},
   "outputs": [
    {
     "data": {
      "text/plain": [
       "Ttest_indResult(statistic=-3.8571425402051243, pvalue=0.00014496313286971316)"
      ]
     },
     "execution_count": 79,
     "metadata": {},
     "output_type": "execute_result"
    }
   ],
   "source": [
    "#Compute a two-sample t-test statistic.\n",
    "test_stat = stats.ttest_ind(df['temperature'], temp_shifted)\n",
    "test_stat"
   ]
  },
  {
   "cell_type": "markdown",
   "metadata": {},
   "source": [
    "Once again I get an extremely low p-value, therefore I can reject the null hypothesis that the true population mean is 98.6."
   ]
  },
  {
   "cell_type": "markdown",
   "metadata": {},
   "source": [
    "I will also attempt to perform a one-sample z-test against this dataset, even though the true population standard deviation is not known. I will do this using statsmodels ztest function.\n"
   ]
  },
  {
   "cell_type": "code",
   "execution_count": 85,
   "metadata": {},
   "outputs": [
    {
     "data": {
      "text/plain": [
       "(-5.4548232923645195, 4.9021570141012155e-08)"
      ]
     },
     "execution_count": 85,
     "metadata": {},
     "output_type": "execute_result"
    }
   ],
   "source": [
    "test_stat = ztest(x1=df.temperature, value=98.6)\n",
    "\n",
    "test_stat"
   ]
  },
  {
   "cell_type": "markdown",
   "metadata": {},
   "source": [
    "Again the p-value is extremely low, so I reject the null hypothesis that the population mean is 98.6."
   ]
  },
  {
   "cell_type": "markdown",
   "metadata": {},
   "source": [
    "## 4 - Repeat both frequentist tests with a small sample of size 10"
   ]
  },
  {
   "cell_type": "code",
   "execution_count": 86,
   "metadata": {},
   "outputs": [
    {
     "name": "stdout",
     "output_type": "stream",
     "text": [
      "[98.7 98.5 98.8 98.2 98.4 97.6 98.  97.5 98.6 98.8]\n"
     ]
    }
   ],
   "source": [
    "temp_small = np.random.choice(df.temperature, size=10)\n",
    "print(temp_small)"
   ]
  },
  {
   "cell_type": "code",
   "execution_count": 88,
   "metadata": {},
   "outputs": [
    {
     "data": {
      "text/plain": [
       "Ttest_1sampResult(statistic=-1.9314266925012828, pvalue=0.08547674296642838)"
      ]
     },
     "execution_count": 88,
     "metadata": {},
     "output_type": "execute_result"
    }
   ],
   "source": [
    "ttest = stats.ttest_1samp(temp_small, 98.6)\n",
    "ttest"
   ]
  },
  {
   "cell_type": "code",
   "execution_count": 89,
   "metadata": {},
   "outputs": [
    {
     "data": {
      "text/plain": [
       "(-1.9314266925012828, 0.05343030684665296)"
      ]
     },
     "execution_count": 89,
     "metadata": {},
     "output_type": "execute_result"
    }
   ],
   "source": [
    "ztest = ztest(x1=temp_small, value=98.6)\n",
    "ztest"
   ]
  },
  {
   "cell_type": "markdown",
   "metadata": {},
   "source": [
    "In this situation the t-test is definitely the correct choice, because the sample size is smaller than 30 and we still do not know the population standard deviation. \n",
    "\n",
    "I notice that the test statistic is the same in both cases, -1.9314, but the p-values different. The t-test p-value is 0.085, while the z-test p-value is 0.053. It seems the z-test statistic is lower and hence more likely to cause us to reject the null hypothesis. The t-test p-value is higher and is less likely to cause a rejection of the null hypothesis. So I would say the t-test is more forgiving than the z-test, possibly because it was designed for working with smaller datasets."
   ]
  },
  {
   "cell_type": "markdown",
   "metadata": {},
   "source": [
    "## 5 - What temperature is considered abnormal?\n",
    "\n",
    "To test this I will start by computing bootstrap estimates of the confidence interval covering 99.7% of the data, which should capture values three standard deviations away from the mean."
   ]
  },
  {
   "cell_type": "code",
   "execution_count": 99,
   "metadata": {},
   "outputs": [],
   "source": [
    "def bootstrap_conf_int(data, alpha):\n",
    "    bs_sample = np.random.choice(data, len(data))\n",
    "    \n",
    "    loc = np.mean(bs_sample)\n",
    "    scale = np.std(bs_sample)\n",
    "    \n",
    "    conf_int = stats.norm.interval(alpha=alpha, loc=loc, scale=scale)\n",
    "    \n",
    "    return conf_int\n"
   ]
  },
  {
   "cell_type": "code",
   "execution_count": 100,
   "metadata": {},
   "outputs": [
    {
     "data": {
      "text/plain": [
       "(95.84117626713532, 100.82651604055697)"
      ]
     },
     "execution_count": 100,
     "metadata": {},
     "output_type": "execute_result"
    }
   ],
   "source": [
    "#Calculate the confidence interval using bootstrap methods with one draw formula\n",
    "bs_conf_int = bootstrap_conf_int(df.temperature, alpha=.997)\n",
    "\n",
    "bs_conf_int"
   ]
  },
  {
   "cell_type": "markdown",
   "metadata": {},
   "source": [
    "From the bootstrap test it appears any temperature below 95.8 degrees or above 100.8 degrees is outside of three standard deviations and should be considered abnormal. \n",
    "\n",
    "Next I will try calculating using frequentist methods, which will use the same function but without calculating bootstrap estimates."
   ]
  },
  {
   "cell_type": "code",
   "execution_count": 1,
   "metadata": {},
   "outputs": [
    {
     "ename": "NameError",
     "evalue": "name 'np' is not defined",
     "output_type": "error",
     "traceback": [
      "\u001b[1;31m---------------------------------------------------------------------------\u001b[0m",
      "\u001b[1;31mNameError\u001b[0m                                 Traceback (most recent call last)",
      "\u001b[1;32m<ipython-input-1-d55479ffe572>\u001b[0m in \u001b[0;36m<module>\u001b[1;34m()\u001b[0m\n\u001b[1;32m----> 1\u001b[1;33m \u001b[0mloc\u001b[0m \u001b[1;33m=\u001b[0m \u001b[0mnp\u001b[0m\u001b[1;33m.\u001b[0m\u001b[0mmean\u001b[0m\u001b[1;33m(\u001b[0m\u001b[0mdf\u001b[0m\u001b[1;33m.\u001b[0m\u001b[0mtemperature\u001b[0m\u001b[1;33m)\u001b[0m\u001b[1;33m\u001b[0m\u001b[0m\n\u001b[0m\u001b[0;32m      2\u001b[0m \u001b[0mscale\u001b[0m \u001b[1;33m=\u001b[0m \u001b[0mnp\u001b[0m\u001b[1;33m.\u001b[0m\u001b[0mstd\u001b[0m\u001b[1;33m(\u001b[0m\u001b[0mdf\u001b[0m\u001b[1;33m.\u001b[0m\u001b[0mtemperature\u001b[0m\u001b[1;33m)\u001b[0m\u001b[1;33m\u001b[0m\u001b[0m\n\u001b[0;32m      3\u001b[0m \u001b[1;33m\u001b[0m\u001b[0m\n\u001b[0;32m      4\u001b[0m \u001b[0mconf_int\u001b[0m \u001b[1;33m=\u001b[0m \u001b[0mstats\u001b[0m\u001b[1;33m.\u001b[0m\u001b[0mnorm\u001b[0m\u001b[1;33m.\u001b[0m\u001b[0minterval\u001b[0m\u001b[1;33m(\u001b[0m\u001b[0malpha\u001b[0m\u001b[1;33m=\u001b[0m\u001b[1;36m.975\u001b[0m\u001b[1;33m,\u001b[0m \u001b[0mloc\u001b[0m\u001b[1;33m=\u001b[0m\u001b[0mloc\u001b[0m\u001b[1;33m,\u001b[0m \u001b[0mscale\u001b[0m\u001b[1;33m=\u001b[0m\u001b[0mscale\u001b[0m\u001b[1;33m)\u001b[0m\u001b[1;33m\u001b[0m\u001b[0m\n\u001b[0;32m      5\u001b[0m \u001b[1;33m\u001b[0m\u001b[0m\n",
      "\u001b[1;31mNameError\u001b[0m: name 'np' is not defined"
     ]
    }
   ],
   "source": [
    "loc = np.mean(df.temperature)\n",
    "scale = np.std(df.temperature)\n",
    "\n",
    "conf_int = stats.norm.interval(alpha=.975, loc=loc, scale=scale)\n",
    "\n",
    "conf_int"
   ]
  },
  {
   "cell_type": "markdown",
   "metadata": {},
   "source": [
    "This time based purely on our sample size of 130 the normal temperature range is slightly narrower: 96.1 degrees to 100.4 degrees."
   ]
  },
  {
   "cell_type": "markdown",
   "metadata": {},
   "source": [
    "## 6 - Is there a significant difference between males and females in normal temperature?\n",
    "\n",
    "To answer this question I will use a two-tailed t-test comparing the means of male temperature vs. female temperature. I will use a t-test because we do not know the true population standard deviation.\n",
    "\n",
    "My null hypothesis is that the mean temperatures for males and females are the same. I will test this at the 5% confidence level."
   ]
  },
  {
   "cell_type": "code",
   "execution_count": 5,
   "metadata": {},
   "outputs": [],
   "source": [
    "#Separate out male temperatures\n",
    "male_temps = df[df['gender']=='M']['temperature']\n",
    "\n",
    "#Separate out female temperatures\n",
    "female_temps = df[df['gender']=='F']['temperature']"
   ]
  },
  {
   "cell_type": "code",
   "execution_count": 109,
   "metadata": {},
   "outputs": [
    {
     "name": "stdout",
     "output_type": "stream",
     "text": [
      "The mean male temperature is 98.1046153846154\n",
      "The mean female temperature is 98.39384615384613\n"
     ]
    }
   ],
   "source": [
    "print(\"The mean male temperature is \" + str(np.mean(male_temps)))\n",
    "print(\"The mean female temperature is \" + str(np.mean(female_temps)))"
   ]
  },
  {
   "cell_type": "code",
   "execution_count": 107,
   "metadata": {},
   "outputs": [
    {
     "data": {
      "text/plain": [
       "Ttest_indResult(statistic=-2.2854345381656103, pvalue=0.02393188312239561)"
      ]
     },
     "execution_count": 107,
     "metadata": {},
     "output_type": "execute_result"
    }
   ],
   "source": [
    "#Perform 2-sample t-test\n",
    "test_stat = stats.ttest_ind(male_temps, female_temps)\n",
    "\n",
    "test_stat"
   ]
  },
  {
   "cell_type": "markdown",
   "metadata": {},
   "source": [
    "The results of the two-sample t-test show a p-value of 0.024, which is less than the 5% confidence range. Therefore I will reject the null hypothesis that the mean male and female temperatures are the same."
   ]
  }
 ],
 "metadata": {
  "kernelspec": {
   "display_name": "Python 3",
   "language": "python",
   "name": "python3"
  },
  "language_info": {
   "codemirror_mode": {
    "name": "ipython",
    "version": 3
   },
   "file_extension": ".py",
   "mimetype": "text/x-python",
   "name": "python",
   "nbconvert_exporter": "python",
   "pygments_lexer": "ipython3",
   "version": "3.6.5"
  }
 },
 "nbformat": 4,
 "nbformat_minor": 1
}
